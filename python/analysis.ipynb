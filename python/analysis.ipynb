{
 "cells": [
  {
   "cell_type": "code",
   "execution_count": 1306,
   "metadata": {},
   "outputs": [],
   "source": [
    "# imports\n",
    "import requests\n",
    "import pandas as pd\n",
    "import numpy as np\n",
    "import matplotlib.pyplot as plt\n",
    "import datetime\n",
    "pd.options.mode.chained_assignment = None  # default='warn'"
   ]
  },
  {
   "cell_type": "code",
   "execution_count": 1307,
   "metadata": {},
   "outputs": [],
   "source": [
    "# gets data from API\n",
    "def fetchData(url):\n",
    "    try:\n",
    "        r = requests.get(url)\n",
    "        return r.json()\n",
    "    except:\n",
    "        return None"
   ]
  },
  {
   "cell_type": "code",
   "execution_count": 1308,
   "metadata": {
    "scrolled": true
   },
   "outputs": [],
   "source": [
    "# calls fetchData function for chosen URL\n",
    "general_info_json = fetchData('https://fantasy.premierleague.com/api/bootstrap-static/')\n",
    "fixtures_json = fetchData('https://fantasy.premierleague.com/api/fixtures/')\n",
    "#players_detailed_json = fetchData('https://fantasy.premierleague.com/api/element-summary/{' + element_id + '}/')\n",
    "#gameweek_live_json = fetchData('https://fantasy.premierleague.com/api/event/{' + event_id + '}/live/')"
   ]
  },
  {
   "cell_type": "code",
   "execution_count": 1309,
   "metadata": {},
   "outputs": [
    {
     "data": {
      "text/plain": [
       "dict_keys(['events', 'game_settings', 'phases', 'teams', 'total_players', 'elements', 'element_stats', 'element_types'])"
      ]
     },
     "execution_count": 1309,
     "metadata": {},
     "output_type": "execute_result"
    }
   ],
   "source": [
    "# gets a list of keys of the json\n",
    "general_info_json.keys()"
   ]
  },
  {
   "cell_type": "code",
   "execution_count": 1310,
   "metadata": {},
   "outputs": [],
   "source": [
    "events_df = pd.DataFrame(general_info_json['events'])"
   ]
  },
  {
   "cell_type": "code",
   "execution_count": 1311,
   "metadata": {},
   "outputs": [
    {
     "data": {
      "text/plain": [
       "id                            0\n",
       "name                          0\n",
       "deadline_time                 0\n",
       "average_entry_score           0\n",
       "finished                      0\n",
       "data_checked                  0\n",
       "highest_scoring_entry        29\n",
       "deadline_time_epoch           0\n",
       "deadline_time_game_offset     0\n",
       "highest_score                29\n",
       "is_previous                   0\n",
       "is_current                    0\n",
       "is_next                       0\n",
       "chip_plays                    0\n",
       "most_selected                29\n",
       "most_transferred_in          29\n",
       "top_element                  29\n",
       "top_element_info             29\n",
       "transfers_made                0\n",
       "most_captained               29\n",
       "most_vice_captained          29\n",
       "dtype: int64"
      ]
     },
     "execution_count": 1311,
     "metadata": {},
     "output_type": "execute_result"
    }
   ],
   "source": [
    "# shows how many values are null for each column\n",
    "events_df.isnull().sum()"
   ]
  },
  {
   "cell_type": "code",
   "execution_count": 1312,
   "metadata": {},
   "outputs": [],
   "source": [
    "# creates 2 dataframes with rows split based on whether the value in \"finished\" is True or False\n",
    "data_checked = events_df.groupby(events_df.finished)\n",
    "data_checked_df = data_checked.get_group(True)\n",
    "data_not_checked_df = data_checked.get_group(False)\n",
    "\n",
    "# https://www.delftstack.com/howto/python-pandas/split-pandas-dataframe/"
   ]
  },
  {
   "cell_type": "code",
   "execution_count": 1313,
   "metadata": {},
   "outputs": [
    {
     "data": {
      "text/plain": [
       "id                           0\n",
       "name                         0\n",
       "deadline_time                0\n",
       "average_entry_score          0\n",
       "finished                     0\n",
       "data_checked                 0\n",
       "highest_scoring_entry        0\n",
       "deadline_time_epoch          0\n",
       "deadline_time_game_offset    0\n",
       "highest_score                0\n",
       "is_previous                  0\n",
       "is_current                   0\n",
       "is_next                      0\n",
       "chip_plays                   0\n",
       "most_selected                0\n",
       "most_transferred_in          0\n",
       "top_element                  0\n",
       "top_element_info             0\n",
       "transfers_made               0\n",
       "most_captained               0\n",
       "most_vice_captained          0\n",
       "dtype: int64"
      ]
     },
     "execution_count": 1313,
     "metadata": {},
     "output_type": "execute_result"
    }
   ],
   "source": [
    "data_checked_df.isnull().sum()"
   ]
  },
  {
   "cell_type": "markdown",
   "metadata": {},
   "source": [
    "No missing values in data_checked_df (all missing values moved to data_not_checked_df)"
   ]
  },
  {
   "cell_type": "code",
   "execution_count": 1314,
   "metadata": {},
   "outputs": [
    {
     "data": {
      "text/plain": [
       "id                            0\n",
       "name                          0\n",
       "deadline_time                 0\n",
       "average_entry_score           0\n",
       "finished                      0\n",
       "data_checked                  0\n",
       "highest_scoring_entry        29\n",
       "deadline_time_epoch           0\n",
       "deadline_time_game_offset     0\n",
       "highest_score                29\n",
       "is_previous                   0\n",
       "is_current                    0\n",
       "is_next                       0\n",
       "chip_plays                    0\n",
       "most_selected                29\n",
       "most_transferred_in          29\n",
       "top_element                  29\n",
       "top_element_info             29\n",
       "transfers_made                0\n",
       "most_captained               29\n",
       "most_vice_captained          29\n",
       "dtype: int64"
      ]
     },
     "execution_count": 1314,
     "metadata": {},
     "output_type": "execute_result"
    }
   ],
   "source": [
    "data_not_checked_df.isnull().sum()"
   ]
  },
  {
   "cell_type": "code",
   "execution_count": 1315,
   "metadata": {},
   "outputs": [
    {
     "data": {
      "text/plain": [
       "id              0\n",
       "name            0\n",
       "is_previous     0\n",
       "is_current      0\n",
       "is_next         0\n",
       "finished        0\n",
       "data_checked    0\n",
       "dtype: int64"
      ]
     },
     "execution_count": 1315,
     "metadata": {},
     "output_type": "execute_result"
    }
   ],
   "source": [
    "events_general_info_df = events_df[['id', 'name', 'is_previous', 'is_current', 'is_next', 'finished', 'data_checked']]\n",
    "events_general_info_df.isnull().sum()"
   ]
  },
  {
   "cell_type": "code",
   "execution_count": 1316,
   "metadata": {},
   "outputs": [
    {
     "data": {
      "text/plain": [
       "id              0\n",
       "name            0\n",
       "is_previous     0\n",
       "is_current      0\n",
       "is_next         0\n",
       "finished        0\n",
       "data_checked    0\n",
       "dtype: int64"
      ]
     },
     "execution_count": 1316,
     "metadata": {},
     "output_type": "execute_result"
    }
   ],
   "source": [
    "events_deadline_df = events_df[['id', 'deadline_time', 'deadline_time_epoch', 'deadline_time_game_offset']]\n",
    "events_general_info_df.isnull().sum()"
   ]
  },
  {
   "cell_type": "code",
   "execution_count": 1317,
   "metadata": {},
   "outputs": [
    {
     "data": {
      "text/plain": [
       "id                        0\n",
       "average_entry_score       0\n",
       "highest_scoring_entry    29\n",
       "highest_score            29\n",
       "dtype: int64"
      ]
     },
     "execution_count": 1317,
     "metadata": {},
     "output_type": "execute_result"
    }
   ],
   "source": [
    "events_user_scored_df = events_df[['id', 'average_entry_score', 'highest_scoring_entry', 'highest_score']]\n",
    "events_user_scored_df.isnull().sum()"
   ]
  },
  {
   "cell_type": "code",
   "execution_count": 1318,
   "metadata": {},
   "outputs": [
    {
     "data": {
      "text/plain": [
       "id                       0\n",
       "average_entry_score      0\n",
       "highest_scoring_entry    0\n",
       "highest_score            0\n",
       "dtype: int64"
      ]
     },
     "execution_count": 1318,
     "metadata": {},
     "output_type": "execute_result"
    }
   ],
   "source": [
    "try:\n",
    "    events_user_scored_df.dropna(inplace=True, axis=0)\n",
    "except:\n",
    "    pass\n",
    "events_user_scored_df.isnull().sum()"
   ]
  },
  {
   "cell_type": "code",
   "execution_count": 1319,
   "metadata": {},
   "outputs": [
    {
     "data": {
      "text/plain": [
       "id                      0\n",
       "chip_plays              0\n",
       "most_selected          29\n",
       "most_transferred_in    29\n",
       "top_element            29\n",
       "top_element_info       29\n",
       "transfers_made          0\n",
       "most_captained         29\n",
       "most_vice_captained    29\n",
       "dtype: int64"
      ]
     },
     "execution_count": 1319,
     "metadata": {},
     "output_type": "execute_result"
    }
   ],
   "source": [
    "events_user_management_df = events_df[['id', 'chip_plays', 'most_selected', 'most_transferred_in', 'top_element', 'top_element_info', 'transfers_made', 'most_captained', 'most_vice_captained']]\n",
    "events_user_management_df.isnull().sum()"
   ]
  },
  {
   "cell_type": "code",
   "execution_count": 1320,
   "metadata": {},
   "outputs": [
    {
     "data": {
      "text/plain": [
       "id                     0\n",
       "chip_plays             0\n",
       "most_selected          0\n",
       "most_transferred_in    0\n",
       "top_element            0\n",
       "top_element_info       0\n",
       "transfers_made         0\n",
       "most_captained         0\n",
       "most_vice_captained    0\n",
       "dtype: int64"
      ]
     },
     "execution_count": 1320,
     "metadata": {},
     "output_type": "execute_result"
    }
   ],
   "source": [
    "try:\n",
    "    events_user_management_df.dropna(inplace=True, axis=0)\n",
    "except:\n",
    "    pass\n",
    "events_user_management_df.isnull().sum()"
   ]
  },
  {
   "cell_type": "code",
   "execution_count": 1321,
   "metadata": {},
   "outputs": [
    {
     "data": {
      "text/plain": [
       "dict_keys(['league_join_private_max', 'league_join_public_max', 'league_max_size_public_classic', 'league_max_size_public_h2h', 'league_max_size_private_h2h', 'league_max_ko_rounds_private_h2h', 'league_prefix_public', 'league_points_h2h_win', 'league_points_h2h_lose', 'league_points_h2h_draw', 'league_ko_first_instead_of_random', 'cup_start_event_id', 'cup_stop_event_id', 'cup_qualifying_method', 'cup_type', 'squad_squadplay', 'squad_squadsize', 'squad_team_limit', 'squad_total_spend', 'ui_currency_multiplier', 'ui_use_special_shirts', 'ui_special_shirt_exclusions', 'stats_form_days', 'sys_vice_captain_enabled', 'transfers_cap', 'transfers_sell_on_fee', 'league_h2h_tiebreak_stats', 'timezone'])"
      ]
     },
     "execution_count": 1321,
     "metadata": {},
     "output_type": "execute_result"
    }
   ],
   "source": [
    "game_settings_full_dict = general_info_json.get('game_settings')\n",
    "game_settings_full_dict.keys()"
   ]
  },
  {
   "cell_type": "code",
   "execution_count": 1322,
   "metadata": {},
   "outputs": [],
   "source": [
    "#def moveKey(dictionary, key, newDictionary):\n",
    "#    if key in dictionary:\n",
    "#        newDictionary[key] = dictionary.get(key)\n",
    "#        del dictionary[key]"
   ]
  },
  {
   "cell_type": "code",
   "execution_count": 1323,
   "metadata": {},
   "outputs": [],
   "source": [
    "#game_settings_league_dict = {}\n",
    "#for key in ['league_join_private_max', 'league_join_public_max', 'league_max_size_public_classic', 'league_max_size_public_h2h', 'league_max_size_private_h2h', 'league_max_size_private_h2h', 'league_max_ko_rounds_private_h2h', 'league_prefix_public', 'league_points_h2h_win', 'league_points_h2h_lose', 'league_points_h2h_draw', 'league_ko_first_instead_of_random', ]:\n",
    "#    moveKey(game_settings_full_dict, key, game_settings_league_dict)\n",
    "\n",
    "#game_settings_full_dict.keys(), game_settings_league_dict.keys()"
   ]
  },
  {
   "cell_type": "code",
   "execution_count": 1324,
   "metadata": {},
   "outputs": [
    {
     "data": {
      "text/plain": [
       "id             0\n",
       "name           0\n",
       "start_event    0\n",
       "stop_event     0\n",
       "dtype: int64"
      ]
     },
     "execution_count": 1324,
     "metadata": {},
     "output_type": "execute_result"
    }
   ],
   "source": [
    "phases_df = pd.DataFrame(general_info_json['phases'])\n",
    "phases_df.isnull().sum()"
   ]
  },
  {
   "cell_type": "code",
   "execution_count": 1325,
   "metadata": {},
   "outputs": [
    {
     "data": {
      "text/plain": [
       "code                      0\n",
       "draw                      0\n",
       "form                     20\n",
       "id                        0\n",
       "loss                      0\n",
       "name                      0\n",
       "played                    0\n",
       "points                    0\n",
       "position                  0\n",
       "short_name                0\n",
       "strength                  0\n",
       "team_division            20\n",
       "unavailable               0\n",
       "win                       0\n",
       "strength_overall_home     0\n",
       "strength_overall_away     0\n",
       "strength_attack_home      0\n",
       "strength_attack_away      0\n",
       "strength_defence_home     0\n",
       "strength_defence_away     0\n",
       "pulse_id                  0\n",
       "dtype: int64"
      ]
     },
     "execution_count": 1325,
     "metadata": {},
     "output_type": "execute_result"
    }
   ],
   "source": [
    "teams_df = pd.DataFrame(general_info_json['teams'])\n",
    "teams_df.isnull().sum()"
   ]
  },
  {
   "cell_type": "markdown",
   "metadata": {},
   "source": [
    "We are not dropping the 'form' column as that is something which will be useful in our models, despite the missing values (we will calculate our own values)"
   ]
  },
  {
   "cell_type": "code",
   "execution_count": 1326,
   "metadata": {},
   "outputs": [],
   "source": [
    "# Need to work out the best way to calculate form of a team.\n",
    "def calculateTeamForm():\n",
    "    return"
   ]
  },
  {
   "cell_type": "code",
   "execution_count": 1327,
   "metadata": {},
   "outputs": [
    {
     "data": {
      "text/plain": [
       "code                      0\n",
       "draw                      0\n",
       "form                     20\n",
       "id                        0\n",
       "loss                      0\n",
       "name                      0\n",
       "played                    0\n",
       "points                    0\n",
       "position                  0\n",
       "short_name                0\n",
       "strength                  0\n",
       "unavailable               0\n",
       "win                       0\n",
       "strength_overall_home     0\n",
       "strength_overall_away     0\n",
       "strength_attack_home      0\n",
       "strength_attack_away      0\n",
       "strength_defence_home     0\n",
       "strength_defence_away     0\n",
       "pulse_id                  0\n",
       "dtype: int64"
      ]
     },
     "execution_count": 1327,
     "metadata": {},
     "output_type": "execute_result"
    }
   ],
   "source": [
    "\n",
    "try:\n",
    "    teams_df.drop('team_division', inplace=True, axis=1)\n",
    "except:\n",
    "    pass\n",
    "teams_df.isnull().sum()"
   ]
  },
  {
   "cell_type": "code",
   "execution_count": 1328,
   "metadata": {},
   "outputs": [],
   "source": [
    "teams_results_df = teams_df[['code', 'position', 'played', 'win', 'draw', 'loss', 'points']]"
   ]
  },
  {
   "cell_type": "code",
   "execution_count": 1329,
   "metadata": {},
   "outputs": [],
   "source": [
    "teams_name_dict = teams_df[['code', 'id', 'name']].set_index('code')['name'].to_dict"
   ]
  },
  {
   "cell_type": "code",
   "execution_count": 1330,
   "metadata": {},
   "outputs": [],
   "source": [
    "teams_short_name_dict = teams_df[['code', 'short_name']].set_index('code')['short_name'].to_dict"
   ]
  },
  {
   "cell_type": "code",
   "execution_count": 1331,
   "metadata": {},
   "outputs": [],
   "source": [
    "teams_rating_df = teams_df[['code', 'strength', 'strength_attack_home', 'strength_defence_home', 'strength_overall_home', 'strength_attack_away', 'strength_defence_away', 'strength_overall_away']]"
   ]
  },
  {
   "cell_type": "code",
   "execution_count": 1332,
   "metadata": {},
   "outputs": [],
   "source": [
    "teams_unavailable_dict = teams_df[['code', 'unavailable']].set_index('code')['unavailable'].to_dict"
   ]
  },
  {
   "cell_type": "code",
   "execution_count": 1333,
   "metadata": {},
   "outputs": [],
   "source": [
    "teams_pulse_id_dict = teams_df[['code', 'pulse_id']].set_index('code')['pulse_id'].to_dict"
   ]
  },
  {
   "cell_type": "code",
   "execution_count": 1334,
   "metadata": {},
   "outputs": [],
   "source": [
    "total_players = general_info_json.get('total_players')"
   ]
  },
  {
   "cell_type": "code",
   "execution_count": 1335,
   "metadata": {},
   "outputs": [],
   "source": [
    "elements_df = pd.DataFrame(general_info_json['elements'])"
   ]
  },
  {
   "cell_type": "code",
   "execution_count": 1336,
   "metadata": {},
   "outputs": [
    {
     "data": {
      "text/plain": [
       "Index(['chance_of_playing_next_round', 'chance_of_playing_this_round', 'code',\n",
       "       'cost_change_event', 'cost_change_event_fall', 'cost_change_start',\n",
       "       'cost_change_start_fall', 'dreamteam_count', 'element_type', 'ep_next',\n",
       "       'ep_this', 'event_points', 'first_name', 'form', 'id', 'in_dreamteam',\n",
       "       'news', 'news_added', 'now_cost', 'photo', 'points_per_game',\n",
       "       'second_name', 'selected_by_percent', 'special', 'squad_number',\n",
       "       'status', 'team', 'team_code', 'total_points', 'transfers_in',\n",
       "       'transfers_in_event', 'transfers_out', 'transfers_out_event',\n",
       "       'value_form', 'value_season', 'web_name', 'minutes', 'goals_scored',\n",
       "       'assists', 'clean_sheets', 'goals_conceded', 'own_goals',\n",
       "       'penalties_saved', 'penalties_missed', 'yellow_cards', 'red_cards',\n",
       "       'saves', 'bonus', 'bps', 'influence', 'creativity', 'threat',\n",
       "       'ict_index', 'influence_rank', 'influence_rank_type', 'creativity_rank',\n",
       "       'creativity_rank_type', 'threat_rank', 'threat_rank_type',\n",
       "       'ict_index_rank', 'ict_index_rank_type',\n",
       "       'corners_and_indirect_freekicks_order',\n",
       "       'corners_and_indirect_freekicks_text', 'direct_freekicks_order',\n",
       "       'direct_freekicks_text', 'penalties_order', 'penalties_text'],\n",
       "      dtype='object')"
      ]
     },
     "execution_count": 1336,
     "metadata": {},
     "output_type": "execute_result"
    }
   ],
   "source": [
    "elements_df.keys()"
   ]
  },
  {
   "cell_type": "code",
   "execution_count": 1337,
   "metadata": {},
   "outputs": [
    {
     "data": {
      "text/plain": [
       "id             0\n",
       "code           0\n",
       "first_name     0\n",
       "second_name    0\n",
       "web_name       0\n",
       "photo          0\n",
       "dtype: int64"
      ]
     },
     "execution_count": 1337,
     "metadata": {},
     "output_type": "execute_result"
    }
   ],
   "source": [
    "player_id_df = elements_df[['id', 'code', 'first_name', 'second_name', 'web_name', 'photo']]\n",
    "player_id_df.isnull().sum()"
   ]
  },
  {
   "cell_type": "code",
   "execution_count": 1338,
   "metadata": {},
   "outputs": [
    {
     "data": {
      "text/plain": [
       "id              0\n",
       "team_code       0\n",
       "element_type    0\n",
       "dtype: int64"
      ]
     },
     "execution_count": 1338,
     "metadata": {},
     "output_type": "execute_result"
    }
   ],
   "source": [
    "player_team_position_df = elements_df[['id', 'team_code', 'element_type']]\n",
    "player_team_position_df.isnull().sum()"
   ]
  },
  {
   "cell_type": "code",
   "execution_count": 1339,
   "metadata": {},
   "outputs": [
    {
     "data": {
      "text/plain": [
       "id                        0\n",
       "now_cost                  0\n",
       "cost_change_start         0\n",
       "cost_change_start_fall    0\n",
       "cost_change_event         0\n",
       "cost_change_event_fall    0\n",
       "dtype: int64"
      ]
     },
     "execution_count": 1339,
     "metadata": {},
     "output_type": "execute_result"
    }
   ],
   "source": [
    "player_cost_df = elements_df[['id', 'now_cost', 'cost_change_start', 'cost_change_start_fall', 'cost_change_event', 'cost_change_event_fall']]\n",
    "player_cost_df.isnull().sum()"
   ]
  },
  {
   "cell_type": "code",
   "execution_count": 1340,
   "metadata": {},
   "outputs": [
    {
     "data": {
      "text/plain": [
       "id        0\n",
       "status    0\n",
       "dtype: int64"
      ]
     },
     "execution_count": 1340,
     "metadata": {},
     "output_type": "execute_result"
    }
   ],
   "source": [
    "player_status_df = elements_df[['id', 'status']]\n",
    "player_status_df.isnull().sum()"
   ]
  },
  {
   "cell_type": "code",
   "execution_count": 1341,
   "metadata": {},
   "outputs": [
    {
     "data": {
      "text/plain": [
       "id              0\n",
       "event_points    0\n",
       "total_points    0\n",
       "bonus           0\n",
       "bps             0\n",
       "dtype: int64"
      ]
     },
     "execution_count": 1341,
     "metadata": {},
     "output_type": "execute_result"
    }
   ],
   "source": [
    "player_points_df = elements_df[['id', 'event_points', 'total_points', 'bonus', 'bps']]\n",
    "player_points_df.isnull().sum()"
   ]
  },
  {
   "cell_type": "code",
   "execution_count": 1342,
   "metadata": {},
   "outputs": [
    {
     "data": {
      "text/plain": [
       "id                     0\n",
       "transfers_in           0\n",
       "transfers_in_event     0\n",
       "transfers_out          0\n",
       "transfers_out_event    0\n",
       "selected_by_percent    0\n",
       "dtype: int64"
      ]
     },
     "execution_count": 1342,
     "metadata": {},
     "output_type": "execute_result"
    }
   ],
   "source": [
    "player_user_transfers_df = elements_df[['id', 'transfers_in', 'transfers_in_event', 'transfers_out', 'transfers_out_event', 'selected_by_percent']]\n",
    "player_user_transfers_df.isnull().sum()"
   ]
  },
  {
   "cell_type": "code",
   "execution_count": 1343,
   "metadata": {},
   "outputs": [
    {
     "data": {
      "text/plain": [
       "id                  0\n",
       "minutes             0\n",
       "goals_scored        0\n",
       "assists             0\n",
       "clean_sheets        0\n",
       "goals_conceded      0\n",
       "own_goals           0\n",
       "penalties_saved     0\n",
       "penalties_missed    0\n",
       "yellow_cards        0\n",
       "red_cards           0\n",
       "saves               0\n",
       "dtype: int64"
      ]
     },
     "execution_count": 1343,
     "metadata": {},
     "output_type": "execute_result"
    }
   ],
   "source": [
    "player_stats_df = elements_df[['id', 'minutes', 'goals_scored', 'assists', 'clean_sheets', 'goals_conceded', 'own_goals', 'penalties_saved', 'penalties_missed', 'yellow_cards', 'red_cards', 'saves']]\n",
    "player_stats_df.isnull().sum()"
   ]
  },
  {
   "cell_type": "code",
   "execution_count": 1344,
   "metadata": {},
   "outputs": [
    {
     "data": {
      "text/plain": [
       "id                 0\n",
       "value_form         0\n",
       "value_season       0\n",
       "points_per_game    0\n",
       "dtype: int64"
      ]
     },
     "execution_count": 1344,
     "metadata": {},
     "output_type": "execute_result"
    }
   ],
   "source": [
    "player_value_df = elements_df[['id', 'value_form', 'value_season', 'points_per_game']]\n",
    "player_value_df.isnull().sum()"
   ]
  },
  {
   "cell_type": "code",
   "execution_count": 1345,
   "metadata": {},
   "outputs": [
    {
     "data": {
      "text/plain": [
       "id                      0\n",
       "ep_next                 0\n",
       "ep_this                 0\n",
       "influence               0\n",
       "influence_rank          0\n",
       "creativity              0\n",
       "creativity_rank         0\n",
       "creativity_rank_type    0\n",
       "threat                  0\n",
       "threat_rank             0\n",
       "threat_rank_type        0\n",
       "ict_index               0\n",
       "ict_index_rank          0\n",
       "ict_index_rank_type     0\n",
       "dtype: int64"
      ]
     },
     "execution_count": 1345,
     "metadata": {},
     "output_type": "execute_result"
    }
   ],
   "source": [
    "player_ep_ict_df = elements_df[['id', 'ep_next', 'ep_this', 'influence', 'influence_rank', 'creativity', 'creativity_rank', 'creativity_rank_type', 'threat', 'threat_rank', 'threat_rank_type', 'ict_index', 'ict_index_rank', 'ict_index_rank_type']]\n",
    "player_ep_ict_df.isnull().sum()"
   ]
  },
  {
   "cell_type": "code",
   "execution_count": 1346,
   "metadata": {},
   "outputs": [
    {
     "data": {
      "text/plain": [
       "(id                                        0\n",
       " team_code                                 0\n",
       " corners_and_indirect_freekicks_order    517\n",
       " direct_freekicks_order                  546\n",
       " penalties_order                         552\n",
       " dtype: int64,\n",
       " id                                      618\n",
       " team_code                               618\n",
       " corners_and_indirect_freekicks_order    101\n",
       " direct_freekicks_order                   72\n",
       " penalties_order                          66\n",
       " dtype: int64)"
      ]
     },
     "execution_count": 1346,
     "metadata": {},
     "output_type": "execute_result"
    }
   ],
   "source": [
    "player_set_piece_df = elements_df[['id', 'team_code', 'corners_and_indirect_freekicks_order', 'direct_freekicks_order', 'penalties_order']]\n",
    "player_set_piece_df.isnull().sum(), player_set_piece_df.notnull().sum()"
   ]
  },
  {
   "cell_type": "markdown",
   "metadata": {},
   "source": [
    "Most of the data in this dataframe is missing, however, the data that we have stored is useful."
   ]
  },
  {
   "cell_type": "code",
   "execution_count": 1347,
   "metadata": {},
   "outputs": [
    {
     "data": {
      "text/plain": [
       "(array([nan,  5.,  1.,  4.,  3.,  2.,  6.,  7.]),\n",
       " array([nan,  5.,  4.,  3.,  2.,  1.]),\n",
       " array([nan,  1.,  2.,  3.,  4.,  5.,  6.]))"
      ]
     },
     "execution_count": 1347,
     "metadata": {},
     "output_type": "execute_result"
    }
   ],
   "source": [
    "player_set_piece_df.corners_and_indirect_freekicks_order.unique(), player_set_piece_df.direct_freekicks_order.unique(), player_set_piece_df.penalties_order.unique()"
   ]
  },
  {
   "cell_type": "markdown",
   "metadata": {},
   "source": [
    "From the unique values shown, we can see that there is a good amount of useful data. The missing data is due to the unlikelyhood of more than 5-7 players being missing from a game. To confirm that there is a decent set piece order stored for every team, we will create bar charts to show the spread of data."
   ]
  },
  {
   "cell_type": "code",
   "execution_count": 1348,
   "metadata": {},
   "outputs": [
    {
     "data": {
      "text/plain": [
       "count    101.000000\n",
       "mean       3.168317\n",
       "std        1.649662\n",
       "min        1.000000\n",
       "25%        2.000000\n",
       "50%        3.000000\n",
       "75%        4.000000\n",
       "max        7.000000\n",
       "Name: corners_and_indirect_freekicks_order, dtype: float64"
      ]
     },
     "execution_count": 1348,
     "metadata": {},
     "output_type": "execute_result"
    }
   ],
   "source": [
    "player_set_piece_df.corners_and_indirect_freekicks_order.describe()"
   ]
  },
  {
   "cell_type": "code",
   "execution_count": 1349,
   "metadata": {},
   "outputs": [
    {
     "data": {
      "text/plain": [
       "count    72.000000\n",
       "mean      2.513889\n",
       "std       1.289099\n",
       "min       1.000000\n",
       "25%       1.000000\n",
       "50%       2.000000\n",
       "75%       3.250000\n",
       "max       5.000000\n",
       "Name: direct_freekicks_order, dtype: float64"
      ]
     },
     "execution_count": 1349,
     "metadata": {},
     "output_type": "execute_result"
    }
   ],
   "source": [
    "player_set_piece_df.direct_freekicks_order.describe()"
   ]
  },
  {
   "cell_type": "code",
   "execution_count": 1350,
   "metadata": {},
   "outputs": [
    {
     "data": {
      "text/plain": [
       "count    66.000000\n",
       "mean      2.439394\n",
       "std       1.254270\n",
       "min       1.000000\n",
       "25%       1.000000\n",
       "50%       2.000000\n",
       "75%       3.000000\n",
       "max       6.000000\n",
       "Name: penalties_order, dtype: float64"
      ]
     },
     "execution_count": 1350,
     "metadata": {},
     "output_type": "execute_result"
    }
   ],
   "source": [
    "player_set_piece_df.penalties_order.describe()"
   ]
  },
  {
   "cell_type": "markdown",
   "metadata": {},
   "source": [
    "As we can see from these dataframe stats, every team has at least 1 player who they prefer to take a set piece over other players. Also, the mean values show that for most of the teams there is a decent sized order of preference. For that reason, we will keep the data we have, just change the way it is stored so that it is grouped by the team (soon)."
   ]
  },
  {
   "cell_type": "code",
   "execution_count": 1351,
   "metadata": {},
   "outputs": [
    {
     "data": {
      "text/plain": [
       "id                                      0\n",
       "team_code                               0\n",
       "corners_and_indirect_freekicks_order    0\n",
       "direct_freekicks_order                  0\n",
       "penalties_order                         0\n",
       "dtype: int64"
      ]
     },
     "execution_count": 1351,
     "metadata": {},
     "output_type": "execute_result"
    }
   ],
   "source": [
    "try:\n",
    "    player_set_piece_df.fillna(0, inplace=True)\n",
    "except:\n",
    "    pass\n",
    "player_set_piece_df.isnull().sum()"
   ]
  },
  {
   "cell_type": "code",
   "execution_count": 1352,
   "metadata": {},
   "outputs": [
    {
     "data": {
      "text/plain": [
       "id              0\n",
       "news            0\n",
       "news_added    281\n",
       "dtype: int64"
      ]
     },
     "execution_count": 1352,
     "metadata": {},
     "output_type": "execute_result"
    }
   ],
   "source": [
    "news_df = elements_df[['id', 'news', 'news_added']]\n",
    "news_df.isnull().sum()"
   ]
  },
  {
   "cell_type": "markdown",
   "metadata": {},
   "source": [
    "News is important, however, should only be used if recent and up to date as old news will skew the predictions. We will remove any data which does not have a timestamp."
   ]
  },
  {
   "cell_type": "code",
   "execution_count": 1353,
   "metadata": {},
   "outputs": [
    {
     "data": {
      "text/plain": [
       "id            0\n",
       "news          0\n",
       "news_added    0\n",
       "dtype: int64"
      ]
     },
     "execution_count": 1353,
     "metadata": {},
     "output_type": "execute_result"
    }
   ],
   "source": [
    "try:\n",
    "    news_df.dropna(inplace=True, axis=0)\n",
    "except:\n",
    "    pass\n",
    "news_df.isnull().sum()"
   ]
  },
  {
   "cell_type": "code",
   "execution_count": 1354,
   "metadata": {},
   "outputs": [
    {
     "data": {
      "text/plain": [
       "id                 0\n",
       "dreamteam_count    0\n",
       "in_dreamteam       0\n",
       "dtype: int64"
      ]
     },
     "execution_count": 1354,
     "metadata": {},
     "output_type": "execute_result"
    }
   ],
   "source": [
    "player_dreamteam_df = elements_df[['id', 'dreamteam_count', 'in_dreamteam']]\n",
    "player_dreamteam_df.isnull().sum()"
   ]
  },
  {
   "cell_type": "code",
   "execution_count": 1355,
   "metadata": {},
   "outputs": [
    {
     "data": {
      "text/plain": [
       "id                                0\n",
       "status                            0\n",
       "chance_of_playing_this_round    288\n",
       "chance_of_playing_next_round    281\n",
       "dtype: int64"
      ]
     },
     "execution_count": 1355,
     "metadata": {},
     "output_type": "execute_result"
    }
   ],
   "source": [
    "chance_of_playing_df = elements_df[['id', 'status', 'chance_of_playing_this_round', 'chance_of_playing_next_round']]\n",
    "chance_of_playing_df.isnull().sum()"
   ]
  },
  {
   "cell_type": "markdown",
   "metadata": {},
   "source": [
    "I suspect that the missing data in this dataframe is due to the status of players, we can check this by finding out the types of status and splitting the dataframe. "
   ]
  },
  {
   "cell_type": "code",
   "execution_count": 1356,
   "metadata": {},
   "outputs": [
    {
     "data": {
      "text/plain": [
       "array(['a', 'u', 'i', 'd', 'n', 's'], dtype=object)"
      ]
     },
     "execution_count": 1356,
     "metadata": {},
     "output_type": "execute_result"
    }
   ],
   "source": [
    "chance_of_playing_df.status.unique()"
   ]
  },
  {
   "cell_type": "code",
   "execution_count": 1357,
   "metadata": {},
   "outputs": [],
   "source": [
    "status_grouped_df = chance_of_playing_df.groupby(chance_of_playing_df.status)\n",
    "a_status_df = status_grouped_df.get_group('a') # available\n",
    "u_status_df = status_grouped_df.get_group('u') # unavailable\n",
    "i_status_df = status_grouped_df.get_group('i') # injured\n",
    "d_status_df = status_grouped_df.get_group('d') # returning from injury soon\n",
    "n_status_df = status_grouped_df.get_group('n') # other\n",
    "s_status_df = status_grouped_df.get_group('s') # suspended"
   ]
  },
  {
   "cell_type": "markdown",
   "metadata": {},
   "source": [
    "Now that the dataframes have been split, we can check which have the most missing data to see if one group is having a large affent on the amount, or whether it is random missing data."
   ]
  },
  {
   "cell_type": "code",
   "execution_count": 1358,
   "metadata": {},
   "outputs": [
    {
     "data": {
      "text/plain": [
       "(id                                0\n",
       " status                            0\n",
       " chance_of_playing_this_round    281\n",
       " chance_of_playing_next_round    281\n",
       " dtype: int64,\n",
       " id                              0\n",
       " status                          0\n",
       " chance_of_playing_this_round    0\n",
       " chance_of_playing_next_round    0\n",
       " dtype: int64,\n",
       " id                              0\n",
       " status                          0\n",
       " chance_of_playing_this_round    0\n",
       " chance_of_playing_next_round    0\n",
       " dtype: int64,\n",
       " id                              0\n",
       " status                          0\n",
       " chance_of_playing_this_round    5\n",
       " chance_of_playing_next_round    0\n",
       " dtype: int64,\n",
       " id                              0\n",
       " status                          0\n",
       " chance_of_playing_this_round    0\n",
       " chance_of_playing_next_round    0\n",
       " dtype: int64,\n",
       " id                              0\n",
       " status                          0\n",
       " chance_of_playing_this_round    2\n",
       " chance_of_playing_next_round    0\n",
       " dtype: int64)"
      ]
     },
     "execution_count": 1358,
     "metadata": {},
     "output_type": "execute_result"
    }
   ],
   "source": [
    "a_status_df.isnull().sum(), u_status_df.isnull().sum(), i_status_df.isnull().sum(), d_status_df.isnull().sum(), n_status_df.isnull().sum(), s_status_df.isnull().sum()"
   ]
  },
  {
   "cell_type": "markdown",
   "metadata": {},
   "source": [
    "This is the majority of the missing data, as suspected, the status plays a part in this. I assume it is difficult to gather predictions on whether or not an available player is going to play without further calculations."
   ]
  },
  {
   "cell_type": "markdown",
   "metadata": {},
   "source": [
    "For now, we can use this dataframe to store the chance of availability of players who are not 100% available (status != a)"
   ]
  },
  {
   "cell_type": "code",
   "execution_count": 1359,
   "metadata": {},
   "outputs": [
    {
     "data": {
      "text/plain": [
       "id                              0\n",
       "status                          0\n",
       "chance_of_playing_this_round    7\n",
       "chance_of_playing_next_round    0\n",
       "dtype: int64"
      ]
     },
     "execution_count": 1359,
     "metadata": {},
     "output_type": "execute_result"
    }
   ],
   "source": [
    "# removing all rows of 100% available players.\n",
    "chance_of_playing_df = chance_of_playing_df[chance_of_playing_df.status != 'a']\n",
    "chance_of_playing_df.isnull().sum()"
   ]
  },
  {
   "cell_type": "markdown",
   "metadata": {},
   "source": [
    "As there is still a small amount of missing data which cannot be predicted accurately, it is easier to just presume the player will not be available, to avaid losing points in the event."
   ]
  },
  {
   "cell_type": "code",
   "execution_count": 1360,
   "metadata": {},
   "outputs": [
    {
     "data": {
      "text/plain": [
       "id                              0\n",
       "status                          0\n",
       "chance_of_playing_this_round    0\n",
       "chance_of_playing_next_round    0\n",
       "dtype: int64"
      ]
     },
     "execution_count": 1360,
     "metadata": {},
     "output_type": "execute_result"
    }
   ],
   "source": [
    "try:\n",
    "    chance_of_playing_df.fillna(0, inplace=True)\n",
    "except:\n",
    "    pass\n",
    "chance_of_playing_df.isnull().sum()"
   ]
  },
  {
   "cell_type": "code",
   "execution_count": 1361,
   "metadata": {},
   "outputs": [
    {
     "data": {
      "text/plain": [
       "label    0\n",
       "name     0\n",
       "dtype: int64"
      ]
     },
     "execution_count": 1361,
     "metadata": {},
     "output_type": "execute_result"
    }
   ],
   "source": [
    "element_stats_df = pd.DataFrame(general_info_json['element_stats'])\n",
    "element_stats_df.isnull().sum()"
   ]
  },
  {
   "cell_type": "code",
   "execution_count": 1362,
   "metadata": {},
   "outputs": [
    {
     "data": {
      "text/plain": [
       "id                      0\n",
       "plural_name             0\n",
       "plural_name_short       0\n",
       "singular_name           0\n",
       "singular_name_short     0\n",
       "squad_select            0\n",
       "squad_min_play          0\n",
       "squad_max_play          0\n",
       "ui_shirt_specific       0\n",
       "sub_positions_locked    0\n",
       "element_count           0\n",
       "dtype: int64"
      ]
     },
     "execution_count": 1362,
     "metadata": {},
     "output_type": "execute_result"
    }
   ],
   "source": [
    "element_types_df = pd.DataFrame(general_info_json['element_types'])\n",
    "element_types_df.isnull().sum()"
   ]
  },
  {
   "cell_type": "code",
   "execution_count": 1363,
   "metadata": {},
   "outputs": [
    {
     "data": {
      "text/plain": [
       "dict_keys(['code', 'event', 'finished', 'finished_provisional', 'id', 'kickoff_time', 'minutes', 'provisional_start_time', 'started', 'team_a', 'team_a_score', 'team_h', 'team_h_score', 'stats', 'team_h_difficulty', 'team_a_difficulty', 'pulse_id'])"
      ]
     },
     "execution_count": 1363,
     "metadata": {},
     "output_type": "execute_result"
    }
   ],
   "source": [
    "# gets a list of keys of the json\n",
    "fixtures_json[0].keys()"
   ]
  },
  {
   "cell_type": "code",
   "execution_count": 1364,
   "metadata": {},
   "outputs": [
    {
     "data": {
      "text/html": [
       "<div>\n",
       "<style scoped>\n",
       "    .dataframe tbody tr th:only-of-type {\n",
       "        vertical-align: middle;\n",
       "    }\n",
       "\n",
       "    .dataframe tbody tr th {\n",
       "        vertical-align: top;\n",
       "    }\n",
       "\n",
       "    .dataframe thead th {\n",
       "        text-align: right;\n",
       "    }\n",
       "</style>\n",
       "<table border=\"1\" class=\"dataframe\">\n",
       "  <thead>\n",
       "    <tr style=\"text-align: right;\">\n",
       "      <th></th>\n",
       "      <th>code</th>\n",
       "      <th>event</th>\n",
       "      <th>finished</th>\n",
       "      <th>finished_provisional</th>\n",
       "      <th>id</th>\n",
       "      <th>kickoff_time</th>\n",
       "      <th>minutes</th>\n",
       "      <th>provisional_start_time</th>\n",
       "      <th>started</th>\n",
       "      <th>team_a</th>\n",
       "      <th>team_a_score</th>\n",
       "      <th>team_h</th>\n",
       "      <th>team_h_score</th>\n",
       "      <th>stats</th>\n",
       "      <th>team_h_difficulty</th>\n",
       "      <th>team_a_difficulty</th>\n",
       "      <th>pulse_id</th>\n",
       "    </tr>\n",
       "  </thead>\n",
       "  <tbody>\n",
       "    <tr>\n",
       "      <th>0</th>\n",
       "      <td>2210271</td>\n",
       "      <td>1</td>\n",
       "      <td>True</td>\n",
       "      <td>True</td>\n",
       "      <td>1</td>\n",
       "      <td>2021-08-13T19:00:00Z</td>\n",
       "      <td>90</td>\n",
       "      <td>False</td>\n",
       "      <td>True</td>\n",
       "      <td>1</td>\n",
       "      <td>0.0</td>\n",
       "      <td>3</td>\n",
       "      <td>2.0</td>\n",
       "      <td>[{'identifier': 'goals_scored', 'a': [], 'h': ...</td>\n",
       "      <td>3</td>\n",
       "      <td>2</td>\n",
       "      <td>66342</td>\n",
       "    </tr>\n",
       "    <tr>\n",
       "      <th>1</th>\n",
       "      <td>2210276</td>\n",
       "      <td>1</td>\n",
       "      <td>True</td>\n",
       "      <td>True</td>\n",
       "      <td>6</td>\n",
       "      <td>2021-08-14T11:30:00Z</td>\n",
       "      <td>90</td>\n",
       "      <td>False</td>\n",
       "      <td>True</td>\n",
       "      <td>10</td>\n",
       "      <td>1.0</td>\n",
       "      <td>13</td>\n",
       "      <td>5.0</td>\n",
       "      <td>[{'identifier': 'goals_scored', 'a': [{'value'...</td>\n",
       "      <td>2</td>\n",
       "      <td>4</td>\n",
       "      <td>66347</td>\n",
       "    </tr>\n",
       "    <tr>\n",
       "      <th>2</th>\n",
       "      <td>2210272</td>\n",
       "      <td>1</td>\n",
       "      <td>True</td>\n",
       "      <td>True</td>\n",
       "      <td>2</td>\n",
       "      <td>2021-08-14T14:00:00Z</td>\n",
       "      <td>90</td>\n",
       "      <td>False</td>\n",
       "      <td>True</td>\n",
       "      <td>4</td>\n",
       "      <td>2.0</td>\n",
       "      <td>5</td>\n",
       "      <td>1.0</td>\n",
       "      <td>[{'identifier': 'goals_scored', 'a': [{'value'...</td>\n",
       "      <td>3</td>\n",
       "      <td>2</td>\n",
       "      <td>66343</td>\n",
       "    </tr>\n",
       "    <tr>\n",
       "      <th>3</th>\n",
       "      <td>2210273</td>\n",
       "      <td>1</td>\n",
       "      <td>True</td>\n",
       "      <td>True</td>\n",
       "      <td>3</td>\n",
       "      <td>2021-08-14T14:00:00Z</td>\n",
       "      <td>90</td>\n",
       "      <td>False</td>\n",
       "      <td>True</td>\n",
       "      <td>7</td>\n",
       "      <td>0.0</td>\n",
       "      <td>6</td>\n",
       "      <td>3.0</td>\n",
       "      <td>[{'identifier': 'goals_scored', 'a': [], 'h': ...</td>\n",
       "      <td>2</td>\n",
       "      <td>5</td>\n",
       "      <td>66344</td>\n",
       "    </tr>\n",
       "    <tr>\n",
       "      <th>4</th>\n",
       "      <td>2210274</td>\n",
       "      <td>1</td>\n",
       "      <td>True</td>\n",
       "      <td>True</td>\n",
       "      <td>4</td>\n",
       "      <td>2021-08-14T14:00:00Z</td>\n",
       "      <td>90</td>\n",
       "      <td>False</td>\n",
       "      <td>True</td>\n",
       "      <td>16</td>\n",
       "      <td>1.0</td>\n",
       "      <td>8</td>\n",
       "      <td>3.0</td>\n",
       "      <td>[{'identifier': 'goals_scored', 'a': [{'value'...</td>\n",
       "      <td>2</td>\n",
       "      <td>4</td>\n",
       "      <td>66345</td>\n",
       "    </tr>\n",
       "  </tbody>\n",
       "</table>\n",
       "</div>"
      ],
      "text/plain": [
       "      code  event  finished  finished_provisional  id          kickoff_time  \\\n",
       "0  2210271      1      True                  True   1  2021-08-13T19:00:00Z   \n",
       "1  2210276      1      True                  True   6  2021-08-14T11:30:00Z   \n",
       "2  2210272      1      True                  True   2  2021-08-14T14:00:00Z   \n",
       "3  2210273      1      True                  True   3  2021-08-14T14:00:00Z   \n",
       "4  2210274      1      True                  True   4  2021-08-14T14:00:00Z   \n",
       "\n",
       "   minutes  provisional_start_time  started  team_a  team_a_score  team_h  \\\n",
       "0       90                   False     True       1           0.0       3   \n",
       "1       90                   False     True      10           1.0      13   \n",
       "2       90                   False     True       4           2.0       5   \n",
       "3       90                   False     True       7           0.0       6   \n",
       "4       90                   False     True      16           1.0       8   \n",
       "\n",
       "   team_h_score                                              stats  \\\n",
       "0           2.0  [{'identifier': 'goals_scored', 'a': [], 'h': ...   \n",
       "1           5.0  [{'identifier': 'goals_scored', 'a': [{'value'...   \n",
       "2           1.0  [{'identifier': 'goals_scored', 'a': [{'value'...   \n",
       "3           3.0  [{'identifier': 'goals_scored', 'a': [], 'h': ...   \n",
       "4           3.0  [{'identifier': 'goals_scored', 'a': [{'value'...   \n",
       "\n",
       "   team_h_difficulty  team_a_difficulty  pulse_id  \n",
       "0                  3                  2     66342  \n",
       "1                  2                  4     66347  \n",
       "2                  3                  2     66343  \n",
       "3                  2                  5     66344  \n",
       "4                  2                  4     66345  "
      ]
     },
     "execution_count": 1364,
     "metadata": {},
     "output_type": "execute_result"
    }
   ],
   "source": [
    "fixtures_df = pd.DataFrame(fixtures_json)\n",
    "fixtures_df.head()"
   ]
  },
  {
   "cell_type": "code",
   "execution_count": 1365,
   "metadata": {},
   "outputs": [
    {
     "data": {
      "text/plain": [
       "id       0\n",
       "code     0\n",
       "event    0\n",
       "dtype: int64"
      ]
     },
     "execution_count": 1365,
     "metadata": {},
     "output_type": "execute_result"
    }
   ],
   "source": [
    "fixtures_event_code_df = fixtures_df[['id', 'code', 'event']]\n",
    "fixtures_event_code_df.isnull().sum()"
   ]
  },
  {
   "cell_type": "code",
   "execution_count": 1366,
   "metadata": {},
   "outputs": [
    {
     "data": {
      "text/plain": [
       "id                      0\n",
       "kickoff_time            0\n",
       "minutes                 0\n",
       "started                 0\n",
       "finished                0\n",
       "finished_provisional    0\n",
       "dtype: int64"
      ]
     },
     "execution_count": 1366,
     "metadata": {},
     "output_type": "execute_result"
    }
   ],
   "source": [
    "fixtures_timings_df = fixtures_df[['id', 'kickoff_time', 'minutes', 'started', 'finished', 'finished_provisional']]\n",
    "fixtures_timings_df.isnull().sum()"
   ]
  },
  {
   "cell_type": "code",
   "execution_count": 1367,
   "metadata": {},
   "outputs": [
    {
     "data": {
      "text/plain": [
       "id        0\n",
       "team_h    0\n",
       "team_a    0\n",
       "dtype: int64"
      ]
     },
     "execution_count": 1367,
     "metadata": {},
     "output_type": "execute_result"
    }
   ],
   "source": [
    "fixtures_teams_df = fixtures_df[['id', 'team_h', 'team_a']]\n",
    "fixtures_teams_df.isnull().sum()"
   ]
  },
  {
   "cell_type": "code",
   "execution_count": 1368,
   "metadata": {},
   "outputs": [
    {
     "data": {
      "text/plain": [
       "id                0\n",
       "team_h_score    290\n",
       "team_a_score    290\n",
       "dtype: int64"
      ]
     },
     "execution_count": 1368,
     "metadata": {},
     "output_type": "execute_result"
    }
   ],
   "source": [
    "fixtures_scores_df = fixtures_df[['id', 'team_h_score', 'team_a_score']]\n",
    "fixtures_scores_df.isnull().sum()"
   ]
  },
  {
   "cell_type": "code",
   "execution_count": 1369,
   "metadata": {},
   "outputs": [
    {
     "data": {
      "text/plain": [
       "id              0\n",
       "team_h_score    0\n",
       "team_a_score    0\n",
       "dtype: int64"
      ]
     },
     "execution_count": 1369,
     "metadata": {},
     "output_type": "execute_result"
    }
   ],
   "source": [
    "try:\n",
    "    fixtures_scores_df.dropna(inplace=True, axis=0)\n",
    "except:\n",
    "    pass\n",
    "fixtures_scores_df.isnull().sum()"
   ]
  },
  {
   "cell_type": "code",
   "execution_count": 1370,
   "metadata": {},
   "outputs": [
    {
     "data": {
      "text/plain": [
       "id                   0\n",
       "team_h_difficulty    0\n",
       "team_a_difficulty    0\n",
       "dtype: int64"
      ]
     },
     "execution_count": 1370,
     "metadata": {},
     "output_type": "execute_result"
    }
   ],
   "source": [
    "fixtures_difficulty_df = fixtures_df[['id', 'team_h_difficulty', 'team_a_difficulty']]\n",
    "fixtures_difficulty_df.isnull().sum()"
   ]
  },
  {
   "cell_type": "code",
   "execution_count": 1371,
   "metadata": {},
   "outputs": [],
   "source": [
    "gameweek_fdr = fixtures_df[['event', 'team_h', 'team_h_difficulty', 'team_a', 'team_a_difficulty']]"
   ]
  },
  {
   "cell_type": "code",
   "execution_count": 1372,
   "metadata": {},
   "outputs": [
    {
     "data": {
      "text/html": [
       "<div>\n",
       "<style scoped>\n",
       "    .dataframe tbody tr th:only-of-type {\n",
       "        vertical-align: middle;\n",
       "    }\n",
       "\n",
       "    .dataframe tbody tr th {\n",
       "        vertical-align: top;\n",
       "    }\n",
       "\n",
       "    .dataframe thead th {\n",
       "        text-align: right;\n",
       "    }\n",
       "</style>\n",
       "<table border=\"1\" class=\"dataframe\">\n",
       "  <thead>\n",
       "    <tr style=\"text-align: right;\">\n",
       "      <th></th>\n",
       "      <th>event</th>\n",
       "      <th>team_id</th>\n",
       "      <th>fdr</th>\n",
       "    </tr>\n",
       "  </thead>\n",
       "  <tbody>\n",
       "    <tr>\n",
       "      <th>0</th>\n",
       "      <td>1</td>\n",
       "      <td>1</td>\n",
       "      <td>3.7</td>\n",
       "    </tr>\n",
       "    <tr>\n",
       "      <th>1</th>\n",
       "      <td>1</td>\n",
       "      <td>2</td>\n",
       "      <td>2.0</td>\n",
       "    </tr>\n",
       "    <tr>\n",
       "      <th>2</th>\n",
       "      <td>1</td>\n",
       "      <td>3</td>\n",
       "      <td>2.7</td>\n",
       "    </tr>\n",
       "    <tr>\n",
       "      <th>3</th>\n",
       "      <td>1</td>\n",
       "      <td>4</td>\n",
       "      <td>2.3</td>\n",
       "    </tr>\n",
       "    <tr>\n",
       "      <th>4</th>\n",
       "      <td>1</td>\n",
       "      <td>5</td>\n",
       "      <td>3.3</td>\n",
       "    </tr>\n",
       "    <tr>\n",
       "      <th>...</th>\n",
       "      <td>...</td>\n",
       "      <td>...</td>\n",
       "      <td>...</td>\n",
       "    </tr>\n",
       "    <tr>\n",
       "      <th>755</th>\n",
       "      <td>38</td>\n",
       "      <td>16</td>\n",
       "      <td>3.0</td>\n",
       "    </tr>\n",
       "    <tr>\n",
       "      <th>756</th>\n",
       "      <td>38</td>\n",
       "      <td>17</td>\n",
       "      <td>2.0</td>\n",
       "    </tr>\n",
       "    <tr>\n",
       "      <th>757</th>\n",
       "      <td>38</td>\n",
       "      <td>18</td>\n",
       "      <td>5.0</td>\n",
       "    </tr>\n",
       "    <tr>\n",
       "      <th>758</th>\n",
       "      <td>38</td>\n",
       "      <td>19</td>\n",
       "      <td>3.0</td>\n",
       "    </tr>\n",
       "    <tr>\n",
       "      <th>759</th>\n",
       "      <td>38</td>\n",
       "      <td>20</td>\n",
       "      <td>5.0</td>\n",
       "    </tr>\n",
       "  </tbody>\n",
       "</table>\n",
       "<p>760 rows × 3 columns</p>\n",
       "</div>"
      ],
      "text/plain": [
       "     event  team_id  fdr\n",
       "0        1        1  3.7\n",
       "1        1        2  2.0\n",
       "2        1        3  2.7\n",
       "3        1        4  2.3\n",
       "4        1        5  3.3\n",
       "..     ...      ...  ...\n",
       "755     38       16  3.0\n",
       "756     38       17  2.0\n",
       "757     38       18  5.0\n",
       "758     38       19  3.0\n",
       "759     38       20  5.0\n",
       "\n",
       "[760 rows x 3 columns]"
      ]
     },
     "execution_count": 1372,
     "metadata": {},
     "output_type": "execute_result"
    }
   ],
   "source": [
    "fdr_dict_temp = {'event': [], 'team_id': [], 'fdr': []}\n",
    "for team in teams_df['id']:\n",
    "    for event in events_df['id']:\n",
    "        fdr_temp = fixtures_df[['event', 'team_h', 'team_h_difficulty', 'team_a', 'team_a_difficulty']]\n",
    "        fdr_temp = fdr_temp[(fdr_temp['event'].isin([event, event + 1, event + 2])) & ((fdr_temp['team_h'] == team) | (fdr_temp['team_a'] == team))]\n",
    "        fdr_count_temp = 0\n",
    "        fixture_count_temp = 0\n",
    "        for fixture in fdr_temp.values:\n",
    "            fixture_count_temp += 1\n",
    "            if fixture[1] == team:\n",
    "                fdr_count_temp += fixture[2]\n",
    "            else:\n",
    "                fdr_count_temp += fixture[4]\n",
    "        fdr_dict_temp.get('event').append(event)\n",
    "        fdr_dict_temp.get('team_id').append(team)\n",
    "        fdr_dict_temp.get('fdr').append(round(fdr_count_temp/fixture_count_temp, 1))\n",
    "\n",
    "team_fdr = pd.DataFrame(fdr_dict_temp).sort_values(by=['event', 'team_id'], ignore_index=True)\n",
    "team_fdr"
   ]
  },
  {
   "cell_type": "code",
   "execution_count": 1373,
   "metadata": {},
   "outputs": [
    {
     "name": "stderr",
     "output_type": "stream",
     "text": [
      "/opt/anaconda3/envs/capstone-project-env/lib/python3.7/site-packages/IPython/core/displayhook.py:276: UserWarning: Output cache limit (currently 1000 entries) hit.\n",
      "Flushing oldest 200 entries.\n",
      "  'Flushing oldest {cull_count} entries.'.format(sz=sz, cull_count=cull_count))\n"
     ]
    },
    {
     "data": {
      "text/html": [
       "<div>\n",
       "<style scoped>\n",
       "    .dataframe tbody tr th:only-of-type {\n",
       "        vertical-align: middle;\n",
       "    }\n",
       "\n",
       "    .dataframe tbody tr th {\n",
       "        vertical-align: top;\n",
       "    }\n",
       "\n",
       "    .dataframe thead th {\n",
       "        text-align: right;\n",
       "    }\n",
       "</style>\n",
       "<table border=\"1\" class=\"dataframe\">\n",
       "  <thead>\n",
       "    <tr style=\"text-align: right;\">\n",
       "      <th></th>\n",
       "      <th>event</th>\n",
       "      <th>team_id</th>\n",
       "      <th>form</th>\n",
       "    </tr>\n",
       "  </thead>\n",
       "  <tbody>\n",
       "    <tr>\n",
       "      <th>0</th>\n",
       "      <td>1</td>\n",
       "      <td>Arsenal</td>\n",
       "      <td>-1</td>\n",
       "    </tr>\n",
       "    <tr>\n",
       "      <th>1</th>\n",
       "      <td>1</td>\n",
       "      <td>Aston Villa</td>\n",
       "      <td>-1</td>\n",
       "    </tr>\n",
       "    <tr>\n",
       "      <th>2</th>\n",
       "      <td>1</td>\n",
       "      <td>Brentford</td>\n",
       "      <td>1</td>\n",
       "    </tr>\n",
       "    <tr>\n",
       "      <th>3</th>\n",
       "      <td>1</td>\n",
       "      <td>Brighton</td>\n",
       "      <td>1</td>\n",
       "    </tr>\n",
       "    <tr>\n",
       "      <th>4</th>\n",
       "      <td>1</td>\n",
       "      <td>Burnley</td>\n",
       "      <td>-1</td>\n",
       "    </tr>\n",
       "    <tr>\n",
       "      <th>...</th>\n",
       "      <td>...</td>\n",
       "      <td>...</td>\n",
       "      <td>...</td>\n",
       "    </tr>\n",
       "    <tr>\n",
       "      <th>175</th>\n",
       "      <td>9</td>\n",
       "      <td>Southampton</td>\n",
       "      <td>-1</td>\n",
       "    </tr>\n",
       "    <tr>\n",
       "      <th>176</th>\n",
       "      <td>9</td>\n",
       "      <td>Spurs</td>\n",
       "      <td>-1</td>\n",
       "    </tr>\n",
       "    <tr>\n",
       "      <th>177</th>\n",
       "      <td>9</td>\n",
       "      <td>Watford</td>\n",
       "      <td>0</td>\n",
       "    </tr>\n",
       "    <tr>\n",
       "      <th>178</th>\n",
       "      <td>9</td>\n",
       "      <td>West Ham</td>\n",
       "      <td>1</td>\n",
       "    </tr>\n",
       "    <tr>\n",
       "      <th>179</th>\n",
       "      <td>9</td>\n",
       "      <td>Wolves</td>\n",
       "      <td>2</td>\n",
       "    </tr>\n",
       "  </tbody>\n",
       "</table>\n",
       "<p>180 rows × 3 columns</p>\n",
       "</div>"
      ],
      "text/plain": [
       "     event      team_id  form\n",
       "0        1      Arsenal    -1\n",
       "1        1  Aston Villa    -1\n",
       "2        1    Brentford     1\n",
       "3        1     Brighton     1\n",
       "4        1      Burnley    -1\n",
       "..     ...          ...   ...\n",
       "175      9  Southampton    -1\n",
       "176      9        Spurs    -1\n",
       "177      9      Watford     0\n",
       "178      9     West Ham     1\n",
       "179      9       Wolves     2\n",
       "\n",
       "[180 rows x 3 columns]"
      ]
     },
     "execution_count": 1373,
     "metadata": {},
     "output_type": "execute_result"
    }
   ],
   "source": [
    "team_form_dict_temp = {'event': [], 'team_id': [], 'form': []}\n",
    "data_checked_events_temp = events_df['id']\n",
    "data_checked_events_temp = data_checked_events_temp[events_df['data_checked'] == True]\n",
    "for team in teams_df['id']:\n",
    "    for event in data_checked_events_temp:\n",
    "        form_temp = fixtures_df[['event', 'team_h', 'team_h_score', 'team_a', 'team_a_score']]\n",
    "        form_temp = form_temp[(form_temp['event'].isin([event, event - 1, event - 2, event - 3, event - 4])) & ((form_temp['team_h'] == team) | (form_temp['team_a'] == team))]\n",
    "        form_count_temp = 0\n",
    "        for fixture in form_temp.values:\n",
    "            if fixture[1] == team:\n",
    "                if fixture[2] > fixture[4]:\n",
    "                    form_count_temp += 1\n",
    "                elif fixture[2] < fixture[4]:\n",
    "                    form_count_temp -= 1\n",
    "            else:\n",
    "                if fixture[2] < fixture[4]:\n",
    "                    form_count_temp += 1\n",
    "                elif fixture[2] > fixture[4]:\n",
    "                    form_count_temp -= 1\n",
    "        team_form_dict_temp.get('event').append(event)\n",
    "        team_form_dict_temp.get('team_id').append(team)\n",
    "        team_form_dict_temp.get('form').append(form_count_temp)\n",
    "\n",
    "team_form = pd.DataFrame(team_form_dict_temp).sort_values(by=['event', 'team_id'], ignore_index=True)\n",
    "team_form['team_id'] = team_form.team_id.map(teams_df.set_index('id').name)\n",
    "team_form"
   ]
  },
  {
   "cell_type": "markdown",
   "metadata": {},
   "source": [
    "We can adapt the form calculation to include difficulty of game.\n",
    "\n",
    "Home win = + Home difficulty\n",
    "\n",
    "Home lose = - Away difficulty\n",
    "\n",
    "Home draw = - 3 + Home difficulty\n",
    "\n",
    "Away win = + Away difficulty\n",
    "\n",
    "Away lose = - Home difficulty\n",
    "\n",
    "Away draw = - 3 + Away difficulty"
   ]
  },
  {
   "cell_type": "code",
   "execution_count": 1374,
   "metadata": {},
   "outputs": [
    {
     "data": {
      "text/html": [
       "<div>\n",
       "<style scoped>\n",
       "    .dataframe tbody tr th:only-of-type {\n",
       "        vertical-align: middle;\n",
       "    }\n",
       "\n",
       "    .dataframe tbody tr th {\n",
       "        vertical-align: top;\n",
       "    }\n",
       "\n",
       "    .dataframe thead th {\n",
       "        text-align: right;\n",
       "    }\n",
       "</style>\n",
       "<table border=\"1\" class=\"dataframe\">\n",
       "  <thead>\n",
       "    <tr style=\"text-align: right;\">\n",
       "      <th></th>\n",
       "      <th>event</th>\n",
       "      <th>team</th>\n",
       "      <th>form</th>\n",
       "    </tr>\n",
       "  </thead>\n",
       "  <tbody>\n",
       "    <tr>\n",
       "      <th>0</th>\n",
       "      <td>1</td>\n",
       "      <td>Arsenal</td>\n",
       "      <td>-3.0</td>\n",
       "    </tr>\n",
       "    <tr>\n",
       "      <th>1</th>\n",
       "      <td>1</td>\n",
       "      <td>Aston Villa</td>\n",
       "      <td>-3.0</td>\n",
       "    </tr>\n",
       "    <tr>\n",
       "      <th>2</th>\n",
       "      <td>1</td>\n",
       "      <td>Brentford</td>\n",
       "      <td>3.0</td>\n",
       "    </tr>\n",
       "    <tr>\n",
       "      <th>3</th>\n",
       "      <td>1</td>\n",
       "      <td>Brighton</td>\n",
       "      <td>2.0</td>\n",
       "    </tr>\n",
       "    <tr>\n",
       "      <th>4</th>\n",
       "      <td>1</td>\n",
       "      <td>Burnley</td>\n",
       "      <td>-2.0</td>\n",
       "    </tr>\n",
       "    <tr>\n",
       "      <th>...</th>\n",
       "      <td>...</td>\n",
       "      <td>...</td>\n",
       "      <td>...</td>\n",
       "    </tr>\n",
       "    <tr>\n",
       "      <th>175</th>\n",
       "      <td>9</td>\n",
       "      <td>Southampton</td>\n",
       "      <td>-1.0</td>\n",
       "    </tr>\n",
       "    <tr>\n",
       "      <th>176</th>\n",
       "      <td>9</td>\n",
       "      <td>Spurs</td>\n",
       "      <td>-4.0</td>\n",
       "    </tr>\n",
       "    <tr>\n",
       "      <th>177</th>\n",
       "      <td>9</td>\n",
       "      <td>Watford</td>\n",
       "      <td>1.0</td>\n",
       "    </tr>\n",
       "    <tr>\n",
       "      <th>178</th>\n",
       "      <td>9</td>\n",
       "      <td>West Ham</td>\n",
       "      <td>2.0</td>\n",
       "    </tr>\n",
       "    <tr>\n",
       "      <th>179</th>\n",
       "      <td>9</td>\n",
       "      <td>Wolves</td>\n",
       "      <td>5.0</td>\n",
       "    </tr>\n",
       "  </tbody>\n",
       "</table>\n",
       "<p>180 rows × 3 columns</p>\n",
       "</div>"
      ],
      "text/plain": [
       "     event         team  form\n",
       "0        1      Arsenal  -3.0\n",
       "1        1  Aston Villa  -3.0\n",
       "2        1    Brentford   3.0\n",
       "3        1     Brighton   2.0\n",
       "4        1      Burnley  -2.0\n",
       "..     ...          ...   ...\n",
       "175      9  Southampton  -1.0\n",
       "176      9        Spurs  -4.0\n",
       "177      9      Watford   1.0\n",
       "178      9     West Ham   2.0\n",
       "179      9       Wolves   5.0\n",
       "\n",
       "[180 rows x 3 columns]"
      ]
     },
     "execution_count": 1374,
     "metadata": {},
     "output_type": "execute_result"
    }
   ],
   "source": [
    "team_form_dict_temp = {'event': [], 'team': [], 'form': []}\n",
    "data_checked_events_temp = events_df['id']\n",
    "data_checked_events_temp = data_checked_events_temp[events_df['data_checked'] == True]\n",
    "for team in teams_df['id']:\n",
    "    for event in data_checked_events_temp:\n",
    "        form_temp = fixtures_df[['event', 'team_h', 'team_h_score', 'team_h_difficulty', 'team_a', 'team_a_score', 'team_a_difficulty']]\n",
    "        form_temp = form_temp[(form_temp['event'].isin([event, event - 1, event - 2, event - 3, event - 4])) & ((form_temp['team_h'] == team) | (form_temp['team_a'] == team))]\n",
    "        form_count_temp = 0\n",
    "        for fixture in form_temp.values:\n",
    "#            fdr_single_event_temp = fixtures_df[['event', 'team_h', 'team_h_difficulty', 'team_a', 'team_a_difficulty']] #\n",
    "#            fdr_single_event_temp = fdr_single_event_temp[(fdr_single_event_temp['event'] == event) & ((fdr_single_event_temp['team_h'] == team) | (fdr_single_event_temp['team_a'] == team))] #\n",
    "            if fixture[1] == team:\n",
    "                if fixture[2] > fixture[5]:\n",
    "                    form_count_temp += fixture[3]\n",
    "                elif fixture[2] < fixture[5]:\n",
    "                    form_count_temp -= fixture[6]\n",
    "                else:\n",
    "                    form_count_temp += (fixture[3] - 3)\n",
    "            elif fixture[4] == team:\n",
    "                if fixture[2] < fixture[5]:\n",
    "                    form_count_temp += fixture[6]\n",
    "                elif fixture[2] > fixture[5]:\n",
    "                    form_count_temp -= fixture[3]\n",
    "                else:\n",
    "                    form_count_temp += (fixture[6] - 3)\n",
    "        team_form_dict_temp.get('event').append(event)\n",
    "        team_form_dict_temp.get('team').append(team)\n",
    "        team_form_dict_temp.get('form').append(form_count_temp)\n",
    "\n",
    "team_form = pd.DataFrame(team_form_dict_temp).sort_values(by=['event', 'team'], ignore_index=True)\n",
    "team_form['team'] = team_form.team.map(teams_df.set_index('id').name)\n",
    "team_form"
   ]
  },
  {
   "cell_type": "code",
   "execution_count": 1375,
   "metadata": {},
   "outputs": [
    {
     "data": {
      "text/html": [
       "<div>\n",
       "<style scoped>\n",
       "    .dataframe tbody tr th:only-of-type {\n",
       "        vertical-align: middle;\n",
       "    }\n",
       "\n",
       "    .dataframe tbody tr th {\n",
       "        vertical-align: top;\n",
       "    }\n",
       "\n",
       "    .dataframe thead th {\n",
       "        text-align: right;\n",
       "    }\n",
       "</style>\n",
       "<table border=\"1\" class=\"dataframe\">\n",
       "  <thead>\n",
       "    <tr style=\"text-align: right;\">\n",
       "      <th></th>\n",
       "      <th>event</th>\n",
       "      <th>team</th>\n",
       "      <th>form</th>\n",
       "    </tr>\n",
       "  </thead>\n",
       "  <tbody>\n",
       "    <tr>\n",
       "      <th>0</th>\n",
       "      <td>9</td>\n",
       "      <td>Man City</td>\n",
       "      <td>11.0</td>\n",
       "    </tr>\n",
       "    <tr>\n",
       "      <th>1</th>\n",
       "      <td>9</td>\n",
       "      <td>Liverpool</td>\n",
       "      <td>8.0</td>\n",
       "    </tr>\n",
       "    <tr>\n",
       "      <th>2</th>\n",
       "      <td>9</td>\n",
       "      <td>Arsenal</td>\n",
       "      <td>7.0</td>\n",
       "    </tr>\n",
       "    <tr>\n",
       "      <th>3</th>\n",
       "      <td>9</td>\n",
       "      <td>Wolves</td>\n",
       "      <td>5.0</td>\n",
       "    </tr>\n",
       "    <tr>\n",
       "      <th>4</th>\n",
       "      <td>9</td>\n",
       "      <td>Chelsea</td>\n",
       "      <td>4.0</td>\n",
       "    </tr>\n",
       "    <tr>\n",
       "      <th>5</th>\n",
       "      <td>9</td>\n",
       "      <td>Brentford</td>\n",
       "      <td>3.0</td>\n",
       "    </tr>\n",
       "    <tr>\n",
       "      <th>6</th>\n",
       "      <td>9</td>\n",
       "      <td>West Ham</td>\n",
       "      <td>2.0</td>\n",
       "    </tr>\n",
       "    <tr>\n",
       "      <th>7</th>\n",
       "      <td>9</td>\n",
       "      <td>Leicester</td>\n",
       "      <td>1.0</td>\n",
       "    </tr>\n",
       "    <tr>\n",
       "      <th>8</th>\n",
       "      <td>9</td>\n",
       "      <td>Watford</td>\n",
       "      <td>1.0</td>\n",
       "    </tr>\n",
       "    <tr>\n",
       "      <th>9</th>\n",
       "      <td>9</td>\n",
       "      <td>Southampton</td>\n",
       "      <td>-1.0</td>\n",
       "    </tr>\n",
       "    <tr>\n",
       "      <th>10</th>\n",
       "      <td>9</td>\n",
       "      <td>Crystal Palace</td>\n",
       "      <td>-2.0</td>\n",
       "    </tr>\n",
       "    <tr>\n",
       "      <th>11</th>\n",
       "      <td>9</td>\n",
       "      <td>Aston Villa</td>\n",
       "      <td>-2.0</td>\n",
       "    </tr>\n",
       "    <tr>\n",
       "      <th>12</th>\n",
       "      <td>9</td>\n",
       "      <td>Brighton</td>\n",
       "      <td>-2.0</td>\n",
       "    </tr>\n",
       "    <tr>\n",
       "      <th>13</th>\n",
       "      <td>9</td>\n",
       "      <td>Spurs</td>\n",
       "      <td>-4.0</td>\n",
       "    </tr>\n",
       "    <tr>\n",
       "      <th>14</th>\n",
       "      <td>9</td>\n",
       "      <td>Leeds</td>\n",
       "      <td>-5.0</td>\n",
       "    </tr>\n",
       "    <tr>\n",
       "      <th>15</th>\n",
       "      <td>9</td>\n",
       "      <td>Burnley</td>\n",
       "      <td>-6.0</td>\n",
       "    </tr>\n",
       "    <tr>\n",
       "      <th>16</th>\n",
       "      <td>9</td>\n",
       "      <td>Newcastle</td>\n",
       "      <td>-7.0</td>\n",
       "    </tr>\n",
       "    <tr>\n",
       "      <th>17</th>\n",
       "      <td>9</td>\n",
       "      <td>Norwich</td>\n",
       "      <td>-7.0</td>\n",
       "    </tr>\n",
       "    <tr>\n",
       "      <th>18</th>\n",
       "      <td>9</td>\n",
       "      <td>Everton</td>\n",
       "      <td>-8.0</td>\n",
       "    </tr>\n",
       "    <tr>\n",
       "      <th>19</th>\n",
       "      <td>9</td>\n",
       "      <td>Man Utd</td>\n",
       "      <td>-8.0</td>\n",
       "    </tr>\n",
       "  </tbody>\n",
       "</table>\n",
       "</div>"
      ],
      "text/plain": [
       "    event            team  form\n",
       "0       9        Man City  11.0\n",
       "1       9       Liverpool   8.0\n",
       "2       9         Arsenal   7.0\n",
       "3       9          Wolves   5.0\n",
       "4       9         Chelsea   4.0\n",
       "5       9       Brentford   3.0\n",
       "6       9        West Ham   2.0\n",
       "7       9       Leicester   1.0\n",
       "8       9         Watford   1.0\n",
       "9       9     Southampton  -1.0\n",
       "10      9  Crystal Palace  -2.0\n",
       "11      9     Aston Villa  -2.0\n",
       "12      9        Brighton  -2.0\n",
       "13      9           Spurs  -4.0\n",
       "14      9           Leeds  -5.0\n",
       "15      9         Burnley  -6.0\n",
       "16      9       Newcastle  -7.0\n",
       "17      9         Norwich  -7.0\n",
       "18      9         Everton  -8.0\n",
       "19      9         Man Utd  -8.0"
      ]
     },
     "execution_count": 1375,
     "metadata": {},
     "output_type": "execute_result"
    }
   ],
   "source": [
    "team_form[team_form['event'] == 9].sort_values(by=['form'], ascending=False, ignore_index=True)"
   ]
  }
 ],
 "metadata": {
  "interpreter": {
   "hash": "609cdfdd6335d9257acae93d12862b48f821f0c4fd0e4ddb0030b97e74f22700"
  },
  "kernelspec": {
   "display_name": "Python 3.7.11 64-bit ('capstone-project-env': conda)",
   "name": "python3"
  },
  "language_info": {
   "codemirror_mode": {
    "name": "ipython",
    "version": 3
   },
   "file_extension": ".py",
   "mimetype": "text/x-python",
   "name": "python",
   "nbconvert_exporter": "python",
   "pygments_lexer": "ipython3",
   "version": "3.7.11"
  }
 },
 "nbformat": 4,
 "nbformat_minor": 5
}
