{
 "cells": [
  {
   "cell_type": "code",
   "execution_count": 30,
   "metadata": {},
   "outputs": [],
   "source": [
    "import data\n",
    "from datapreprocessing import preprocess\n",
    "\n",
    "import pandas as pd\n",
    "import matplotlib.pyplot as plt\n",
    "import seaborn as sb\n",
    "import numpy as np\n",
    "import manipulation"
   ]
  },
  {
   "cell_type": "code",
   "execution_count": 14,
   "metadata": {},
   "outputs": [
    {
     "name": "stderr",
     "output_type": "stream",
     "text": [
      "/Users/reecelance/Desktop/a-data-analytics-approach-to-fantasy-football-management/python/datapreprocessing.py:312: FutureWarning: The default value of regex will change from True to False in a future version.\n",
      "  data.gameweek_fixture_df['full_name'] = data.gameweek_fixture_df.name.str.replace('_\\d+','')\n",
      "/Users/reecelance/Desktop/a-data-analytics-approach-to-fantasy-football-management/python/datapreprocessing.py:313: FutureWarning: The default value of regex will change from True to False in a future version.\n",
      "  data.gameweek_fixture_df['full_name'] = data.gameweek_fixture_df['full_name'].str.replace(\" \", \"_\").str.replace(\"-\", \"_\").str.replace('_\\d+','')\n"
     ]
    }
   ],
   "source": [
    "preprocess()"
   ]
  },
  {
   "cell_type": "code",
   "execution_count": 26,
   "metadata": {},
   "outputs": [
    {
     "data": {
      "image/png": "[encoded data removed]",
      "text/plain": [
       "<Figure size 432x288 with 1 Axes>"
      ]
     },
     "metadata": {
      "needs_background": "light"
     },
     "output_type": "display_data"
    }
   ],
   "source": [
    "values = []\n",
    "positions = []\n",
    "for pos, players in data.players_df.groupby(by='position'):\n",
    "    players = players[players['minutes'] > ((38*90)/2)]\n",
    "    positions.append(pos)\n",
    "    values.append(players.total_points.sum() / len(players))\n",
    "\n",
    "plt.bar(positions, values)\n",
    "plt.show()"
   ]
  },
  {
   "cell_type": "code",
   "execution_count": 27,
   "metadata": {},
   "outputs": [
    {
     "data": {
      "image/png": "[encoded data removed]",
      "text/plain": [
       "<Figure size 432x288 with 1 Axes>"
      ]
     },
     "metadata": {
      "needs_background": "light"
     },
     "output_type": "display_data"
    }
   ],
   "source": [
    "values = []\n",
    "positions = []\n",
    "for pos, players in data.players_df.groupby(by='position'):\n",
    "    players = players[players['minutes'] > ((38*90)/2)]\n",
    "    positions.append(pos)\n",
    "    values.append(players.value_season.sum() / len(players))\n",
    "\n",
    "plt.bar(positions, values)\n",
    "plt.show()"
   ]
  },
  {
   "cell_type": "code",
   "execution_count": 28,
   "metadata": {},
   "outputs": [],
   "source": [
    "def getCurrentSeasonsDf(this_season_player_df, last_season_player_df):\n",
    "    last_season_player_df = last_season_player_df[last_season_player_df.minutes > 0]\n",
    "    last_season_player_df.rename(columns={'total_points': \"prev_total_points\"}, inplace=True)\n",
    "    \n",
    "    players_df = pd.merge(last_season_player_df, this_season_player_df[['full_name', \"total_points\"]], on='full_name', how='left')\n",
    "    \n",
    "    manipulation.dropEmptyValueRow(players_df)\n",
    "    \n",
    "    return players_df.reset_index(drop='index')"
   ]
  },
  {
   "cell_type": "code",
   "execution_count": 51,
   "metadata": {},
   "outputs": [],
   "source": [
    "def listOfColumns(df, cols):\n",
    "    list_of_columns = []\n",
    "    for col in cols:\n",
    "        list_of_columns.append(df[col])\n",
    "    return list_of_columns"
   ]
  },
  {
   "cell_type": "code",
   "execution_count": 85,
   "metadata": {},
   "outputs": [
    {
     "name": "stdout",
     "output_type": "stream",
     "text": [
      "assists 0.44316261127566403\n",
      "bonus 0.5465555598026259\n",
      "bps 0.5768349822466603\n",
      "clean_sheets 0.5395667425152016\n",
      "creativity 0.4474038857814362\n",
      "goals_scored 0.45654032177091475\n",
      "ict_index 0.591068252052665\n",
      "influence 0.5858819323381953\n",
      "minutes 0.525881168808513\n",
      "points_per_game 0.5074412292680894\n",
      "selected_by_percent 0.4721620352388853\n",
      "threat 0.4802375563026387\n",
      "prev_total_points 0.625548791538455\n",
      "transfers_in 0.4247435655372463\n",
      "transfers_out 0.42224979792226164\n",
      "value_season 0.5233573415538699\n",
      "starting_cost 0.4833828837642417\n",
      "cost_bin 0.4418573139197163\n"
     ]
    },
    {
     "data": {
      "image/png": "[encoded data removed]",
      "text/plain": [
       "<Figure size 432x288 with 1 Axes>"
      ]
     },
     "metadata": {
      "needs_background": "light"
     },
     "output_type": "display_data"
    }
   ],
   "source": [
    "seasonal_data = pd.DataFrame(columns=['total_points', 'assists', 'bonus', 'bps', 'clean_sheets', 'creativity', 'goals_conceded', 'goals_scored', 'ict_index', 'influence', 'minutes', 'own_goals', 'penalties_missed', 'penalties_saved', 'points_per_game', 'red_cards', 'saves', 'selected_by_percent', 'team_code', 'threat', 'prev_total_points', 'transfers_in', 'transfers_out', 'value_season', 'yellow_cards', 'season_num', 'starting_cost', 'cost_bin'])\n",
    "seasons = ['1617', '1718', '1819', '1920', '2021', '2122']\n",
    "for season in range(1, len(seasons)):\n",
    "    seasonal_data = pd.concat([getCurrentSeasonsDf(data.players_df[data.players_df['season'] == seasons[season]], data.players_df[data.players_df['season'] == seasons[season-1]])[['total_points', 'assists', 'bonus', 'bps', 'clean_sheets', 'creativity', 'goals_conceded', 'goals_scored', 'ict_index', 'influence', 'minutes', 'own_goals', 'penalties_missed', 'penalties_saved', 'points_per_game', 'red_cards', 'saves', 'selected_by_percent', 'team_code', 'threat', 'prev_total_points', 'transfers_in', 'transfers_out', 'value_season', 'yellow_cards', 'season_num', 'starting_cost', 'cost_bin']], seasonal_data])\n",
    "\n",
    "manipulation.dropEmptyValueRow(seasonal_data)\n",
    "seasonal_data = seasonal_data.astype(float)\n",
    "\n",
    "columns = []\n",
    "correlations = []\n",
    "for col in seasonal_data.keys():\n",
    "    correlation = seasonal_data['total_points'].corr(seasonal_data[col])\n",
    "    if col != 'total_points' and correlation > 0.4:\n",
    "        print(col, correlation)\n",
    "        columns.append(col)\n",
    "        correlations.append(seasonal_data['total_points'].corr(seasonal_data[col]))\n",
    "\n",
    "plt.bar(columns, correlations)\n",
    "plt.title('Average correlation with total_points of following season')\n",
    "plt.show()"
   ]
  }
 ],
 "metadata": {
  "interpreter": {
   "hash": "aee8b7b246df8f9039afb4144a1f6fd8d2ca17a180786b69acc140d282b71a49"
  },
  "kernelspec": {
   "display_name": "Python 3.10.2 64-bit",
   "language": "python",
   "name": "python3"
  },
  "language_info": {
   "codemirror_mode": {
    "name": "ipython",
    "version": 3
   },
   "file_extension": ".py",
   "mimetype": "text/x-python",
   "name": "python",
   "nbconvert_exporter": "python",
   "pygments_lexer": "ipython3",
   "version": "3.10.2"
  },
  "orig_nbformat": 4
 },
 "nbformat": 4,
 "nbformat_minor": 2
}
