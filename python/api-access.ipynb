{
 "cells": [
  {
   "cell_type": "code",
   "execution_count": 151,
   "metadata": {},
   "outputs": [],
   "source": [
    "# imports\n",
    "import requests\n",
    "import pandas as pd\n",
    "import numpy as np\n",
    "import matplotlib.pyplot as plt\n",
    "pd.options.mode.chained_assignment = None  # default='warn'"
   ]
  },
  {
   "cell_type": "code",
   "execution_count": 152,
   "metadata": {},
   "outputs": [],
   "source": [
    "# gets data from API\n",
    "def fetchData(url):\n",
    "    try:\n",
    "        r = requests.get(url)\n",
    "        return r.json()\n",
    "    except:\n",
    "        return None"
   ]
  },
  {
   "cell_type": "code",
   "execution_count": 153,
   "metadata": {
    "scrolled": true
   },
   "outputs": [],
   "source": [
    "# calls fetchData function for chosen URL\n",
    "general_info_json = fetchData('https://fantasy.premierleague.com/api/bootstrap-static/')\n",
    "fixtures_json = fetchData('https://fantasy.premierleague.com/api/fixtures/')\n",
    "#players_detailed_json = fetchData('https://fantasy.premierleague.com/api/element-summary/{' + element_id + '}/')\n",
    "#gameweek_live_json = fetchData('https://fantasy.premierleague.com/api/event/{' + event_id + '}/live/')"
   ]
  },
  {
   "cell_type": "code",
   "execution_count": 154,
   "metadata": {},
   "outputs": [
    {
     "data": {
      "text/plain": [
       "dict_keys(['events', 'game_settings', 'phases', 'teams', 'total_players', 'elements', 'element_stats', 'element_types'])"
      ]
     },
     "execution_count": 154,
     "metadata": {},
     "output_type": "execute_result"
    }
   ],
   "source": [
    "# gets a list of keys of the json\n",
    "general_info_json.keys()"
   ]
  },
  {
   "cell_type": "code",
   "execution_count": 155,
   "metadata": {},
   "outputs": [],
   "source": [
    "events_df = pd.DataFrame(general_info_json['events'])"
   ]
  },
  {
   "cell_type": "code",
   "execution_count": 156,
   "metadata": {},
   "outputs": [
    {
     "data": {
      "text/plain": [
       "id                            0\n",
       "name                          0\n",
       "deadline_time                 0\n",
       "average_entry_score           0\n",
       "finished                      0\n",
       "data_checked                  0\n",
       "highest_scoring_entry        29\n",
       "deadline_time_epoch           0\n",
       "deadline_time_game_offset     0\n",
       "highest_score                29\n",
       "is_previous                   0\n",
       "is_current                    0\n",
       "is_next                       0\n",
       "chip_plays                    0\n",
       "most_selected                29\n",
       "most_transferred_in          29\n",
       "top_element                  29\n",
       "top_element_info             29\n",
       "transfers_made                0\n",
       "most_captained               29\n",
       "most_vice_captained          29\n",
       "dtype: int64"
      ]
     },
     "execution_count": 156,
     "metadata": {},
     "output_type": "execute_result"
    }
   ],
   "source": [
    "# shows how many values are null for each column\n",
    "events_df.isnull().sum()"
   ]
  },
  {
   "cell_type": "code",
   "execution_count": 157,
   "metadata": {},
   "outputs": [],
   "source": [
    "# creates 2 dataframes with rows split based on whether the value in \"finished\" is True or False\n",
    "data_checked = events_df.groupby(events_df.finished)\n",
    "data_checked_df = data_checked.get_group(True)\n",
    "data_not_checked_df = data_checked.get_group(False)\n",
    "\n",
    "# https://www.delftstack.com/howto/python-pandas/split-pandas-dataframe/"
   ]
  },
  {
   "cell_type": "code",
   "execution_count": 158,
   "metadata": {},
   "outputs": [
    {
     "data": {
      "text/plain": [
       "id                           0\n",
       "name                         0\n",
       "deadline_time                0\n",
       "average_entry_score          0\n",
       "finished                     0\n",
       "data_checked                 0\n",
       "highest_scoring_entry        0\n",
       "deadline_time_epoch          0\n",
       "deadline_time_game_offset    0\n",
       "highest_score                0\n",
       "is_previous                  0\n",
       "is_current                   0\n",
       "is_next                      0\n",
       "chip_plays                   0\n",
       "most_selected                0\n",
       "most_transferred_in          0\n",
       "top_element                  0\n",
       "top_element_info             0\n",
       "transfers_made               0\n",
       "most_captained               0\n",
       "most_vice_captained          0\n",
       "dtype: int64"
      ]
     },
     "execution_count": 158,
     "metadata": {},
     "output_type": "execute_result"
    }
   ],
   "source": [
    "data_checked_df.isnull().sum()"
   ]
  },
  {
   "cell_type": "markdown",
   "metadata": {},
   "source": [
    "No missing values in data_checked_df (all missing values moved to data_not_checked_df)"
   ]
  },
  {
   "cell_type": "code",
   "execution_count": 159,
   "metadata": {},
   "outputs": [
    {
     "data": {
      "text/plain": [
       "id                            0\n",
       "name                          0\n",
       "deadline_time                 0\n",
       "average_entry_score           0\n",
       "finished                      0\n",
       "data_checked                  0\n",
       "highest_scoring_entry        29\n",
       "deadline_time_epoch           0\n",
       "deadline_time_game_offset     0\n",
       "highest_score                29\n",
       "is_previous                   0\n",
       "is_current                    0\n",
       "is_next                       0\n",
       "chip_plays                    0\n",
       "most_selected                29\n",
       "most_transferred_in          29\n",
       "top_element                  29\n",
       "top_element_info             29\n",
       "transfers_made                0\n",
       "most_captained               29\n",
       "most_vice_captained          29\n",
       "dtype: int64"
      ]
     },
     "execution_count": 159,
     "metadata": {},
     "output_type": "execute_result"
    }
   ],
   "source": [
    "data_not_checked_df.isnull().sum()"
   ]
  },
  {
   "cell_type": "code",
   "execution_count": 160,
   "metadata": {},
   "outputs": [
    {
     "data": {
      "text/plain": [
       "id              0\n",
       "name            0\n",
       "is_previous     0\n",
       "is_current      0\n",
       "is_next         0\n",
       "finished        0\n",
       "data_checked    0\n",
       "dtype: int64"
      ]
     },
     "execution_count": 160,
     "metadata": {},
     "output_type": "execute_result"
    }
   ],
   "source": [
    "events_general_info_df = events_df[['id', 'name', 'is_previous', 'is_current', 'is_next', 'finished', 'data_checked']]\n",
    "events_general_info_df.isnull().sum()"
   ]
  },
  {
   "cell_type": "code",
   "execution_count": 161,
   "metadata": {},
   "outputs": [
    {
     "data": {
      "text/plain": [
       "id              0\n",
       "name            0\n",
       "is_previous     0\n",
       "is_current      0\n",
       "is_next         0\n",
       "finished        0\n",
       "data_checked    0\n",
       "dtype: int64"
      ]
     },
     "execution_count": 161,
     "metadata": {},
     "output_type": "execute_result"
    }
   ],
   "source": [
    "events_deadline_df = events_df[['id', 'deadline_time', 'deadline_time_epoch', 'deadline_time_game_offset']]\n",
    "events_general_info_df.isnull().sum()"
   ]
  },
  {
   "cell_type": "code",
   "execution_count": 162,
   "metadata": {},
   "outputs": [
    {
     "data": {
      "text/plain": [
       "id                        0\n",
       "average_entry_score       0\n",
       "highest_scoring_entry    29\n",
       "highest_score            29\n",
       "dtype: int64"
      ]
     },
     "execution_count": 162,
     "metadata": {},
     "output_type": "execute_result"
    }
   ],
   "source": [
    "events_user_scored_df = events_df[['id', 'average_entry_score', 'highest_scoring_entry', 'highest_score']]\n",
    "events_user_scored_df.isnull().sum()"
   ]
  },
  {
   "cell_type": "code",
   "execution_count": 163,
   "metadata": {},
   "outputs": [
    {
     "data": {
      "text/plain": [
       "id                       0\n",
       "average_entry_score      0\n",
       "highest_scoring_entry    0\n",
       "highest_score            0\n",
       "dtype: int64"
      ]
     },
     "execution_count": 163,
     "metadata": {},
     "output_type": "execute_result"
    }
   ],
   "source": [
    "try:\n",
    "    events_user_scored_df.dropna(inplace=True, axis=0)\n",
    "except:\n",
    "    pass\n",
    "events_user_scored_df.isnull().sum()"
   ]
  },
  {
   "cell_type": "code",
   "execution_count": 164,
   "metadata": {},
   "outputs": [
    {
     "data": {
      "text/plain": [
       "id                      0\n",
       "chip_plays              0\n",
       "most_selected          29\n",
       "most_transferred_in    29\n",
       "top_element            29\n",
       "top_element_info       29\n",
       "transfers_made          0\n",
       "most_captained         29\n",
       "most_vice_captained    29\n",
       "dtype: int64"
      ]
     },
     "execution_count": 164,
     "metadata": {},
     "output_type": "execute_result"
    }
   ],
   "source": [
    "events_user_management_df = events_df[['id', 'chip_plays', 'most_selected', 'most_transferred_in', 'top_element', 'top_element_info', 'transfers_made', 'most_captained', 'most_vice_captained']]\n",
    "events_user_management_df.isnull().sum()"
   ]
  },
  {
   "cell_type": "code",
   "execution_count": 165,
   "metadata": {},
   "outputs": [
    {
     "data": {
      "text/plain": [
       "id                     0\n",
       "chip_plays             0\n",
       "most_selected          0\n",
       "most_transferred_in    0\n",
       "top_element            0\n",
       "top_element_info       0\n",
       "transfers_made         0\n",
       "most_captained         0\n",
       "most_vice_captained    0\n",
       "dtype: int64"
      ]
     },
     "execution_count": 165,
     "metadata": {},
     "output_type": "execute_result"
    }
   ],
   "source": [
    "try:\n",
    "    events_user_management_df.dropna(inplace=True, axis=0)\n",
    "except:\n",
    "    pass\n",
    "events_user_management_df.isnull().sum()"
   ]
  },
  {
   "cell_type": "code",
   "execution_count": 166,
   "metadata": {},
   "outputs": [
    {
     "data": {
      "text/plain": [
       "dict_keys(['league_join_private_max', 'league_join_public_max', 'league_max_size_public_classic', 'league_max_size_public_h2h', 'league_max_size_private_h2h', 'league_max_ko_rounds_private_h2h', 'league_prefix_public', 'league_points_h2h_win', 'league_points_h2h_lose', 'league_points_h2h_draw', 'league_ko_first_instead_of_random', 'cup_start_event_id', 'cup_stop_event_id', 'cup_qualifying_method', 'cup_type', 'squad_squadplay', 'squad_squadsize', 'squad_team_limit', 'squad_total_spend', 'ui_currency_multiplier', 'ui_use_special_shirts', 'ui_special_shirt_exclusions', 'stats_form_days', 'sys_vice_captain_enabled', 'transfers_cap', 'transfers_sell_on_fee', 'league_h2h_tiebreak_stats', 'timezone'])"
      ]
     },
     "execution_count": 166,
     "metadata": {},
     "output_type": "execute_result"
    }
   ],
   "source": [
    "game_settings_full_dict = general_info_json.get('game_settings')\n",
    "game_settings_full_dict.keys()"
   ]
  },
  {
   "cell_type": "code",
   "execution_count": 167,
   "metadata": {},
   "outputs": [],
   "source": [
    "#def moveKey(dictionary, key, newDictionary):\n",
    "#    if key in dictionary:\n",
    "#        newDictionary[key] = dictionary.get(key)\n",
    "#        del dictionary[key]"
   ]
  },
  {
   "cell_type": "code",
   "execution_count": 168,
   "metadata": {},
   "outputs": [],
   "source": [
    "#game_settings_league_dict = {}\n",
    "#for key in ['league_join_private_max', 'league_join_public_max', 'league_max_size_public_classic', 'league_max_size_public_h2h', 'league_max_size_private_h2h', 'league_max_size_private_h2h', 'league_max_ko_rounds_private_h2h', 'league_prefix_public', 'league_points_h2h_win', 'league_points_h2h_lose', 'league_points_h2h_draw', 'league_ko_first_instead_of_random', ]:\n",
    "#    moveKey(game_settings_full_dict, key, game_settings_league_dict)\n",
    "\n",
    "#game_settings_full_dict.keys(), game_settings_league_dict.keys()"
   ]
  },
  {
   "cell_type": "code",
   "execution_count": 169,
   "metadata": {},
   "outputs": [
    {
     "data": {
      "text/plain": [
       "id             0\n",
       "name           0\n",
       "start_event    0\n",
       "stop_event     0\n",
       "dtype: int64"
      ]
     },
     "execution_count": 169,
     "metadata": {},
     "output_type": "execute_result"
    }
   ],
   "source": [
    "phases_df = pd.DataFrame(general_info_json['phases'])\n",
    "phases_df.isnull().sum()"
   ]
  },
  {
   "cell_type": "code",
   "execution_count": 170,
   "metadata": {},
   "outputs": [
    {
     "data": {
      "text/plain": [
       "code                      0\n",
       "draw                      0\n",
       "form                     20\n",
       "id                        0\n",
       "loss                      0\n",
       "name                      0\n",
       "played                    0\n",
       "points                    0\n",
       "position                  0\n",
       "short_name                0\n",
       "strength                  0\n",
       "team_division            20\n",
       "unavailable               0\n",
       "win                       0\n",
       "strength_overall_home     0\n",
       "strength_overall_away     0\n",
       "strength_attack_home      0\n",
       "strength_attack_away      0\n",
       "strength_defence_home     0\n",
       "strength_defence_away     0\n",
       "pulse_id                  0\n",
       "dtype: int64"
      ]
     },
     "execution_count": 170,
     "metadata": {},
     "output_type": "execute_result"
    }
   ],
   "source": [
    "teams_df = pd.DataFrame(general_info_json['teams'])\n",
    "teams_df.isnull().sum()"
   ]
  },
  {
   "cell_type": "markdown",
   "metadata": {},
   "source": [
    "We are not dropping the 'form' column as that is something which will be useful in our models, despite the missing values (we will calculate our own values)"
   ]
  },
  {
   "cell_type": "code",
   "execution_count": 171,
   "metadata": {},
   "outputs": [],
   "source": [
    "# Need to work out the best way to calculate form of a team.\n",
    "def calculateTeamForm():\n",
    "    return"
   ]
  },
  {
   "cell_type": "code",
   "execution_count": 172,
   "metadata": {},
   "outputs": [
    {
     "data": {
      "text/plain": [
       "code                      0\n",
       "draw                      0\n",
       "form                     20\n",
       "loss                      0\n",
       "name                      0\n",
       "played                    0\n",
       "points                    0\n",
       "position                  0\n",
       "short_name                0\n",
       "strength                  0\n",
       "unavailable               0\n",
       "win                       0\n",
       "strength_overall_home     0\n",
       "strength_overall_away     0\n",
       "strength_attack_home      0\n",
       "strength_attack_away      0\n",
       "strength_defence_home     0\n",
       "strength_defence_away     0\n",
       "pulse_id                  0\n",
       "dtype: int64"
      ]
     },
     "execution_count": 172,
     "metadata": {},
     "output_type": "execute_result"
    }
   ],
   "source": [
    "\n",
    "try:\n",
    "    teams_df.drop('id', inplace=True, axis=1)\n",
    "    teams_df.drop('team_division', inplace=True, axis=1)\n",
    "except:\n",
    "    pass\n",
    "teams_df.isnull().sum()"
   ]
  },
  {
   "cell_type": "code",
   "execution_count": 173,
   "metadata": {},
   "outputs": [],
   "source": [
    "teams_results_df = teams_df[['code', 'position', 'played', 'win', 'draw', 'loss', 'points']]"
   ]
  },
  {
   "cell_type": "code",
   "execution_count": 174,
   "metadata": {},
   "outputs": [],
   "source": [
    "teams_name_dict = teams_df[['code', 'name']].set_index('code')['name'].to_dict"
   ]
  },
  {
   "cell_type": "code",
   "execution_count": 175,
   "metadata": {},
   "outputs": [],
   "source": [
    "teams_short_name_dict = teams_df[['code', 'short_name']].set_index('code')['short_name'].to_dict"
   ]
  },
  {
   "cell_type": "code",
   "execution_count": 176,
   "metadata": {},
   "outputs": [],
   "source": [
    "teams_rating_df = teams_df[['code', 'strength', 'strength_attack_home', 'strength_defence_home', 'strength_overall_home', 'strength_attack_away', 'strength_defence_away', 'strength_overall_away']]"
   ]
  },
  {
   "cell_type": "code",
   "execution_count": 177,
   "metadata": {},
   "outputs": [],
   "source": [
    "teams_unavailable_dict = teams_df[['code', 'unavailable']].set_index('code')['unavailable'].to_dict"
   ]
  },
  {
   "cell_type": "code",
   "execution_count": 178,
   "metadata": {},
   "outputs": [],
   "source": [
    "teams_pulse_id_dict = teams_df[['code', 'pulse_id']].set_index('code')['pulse_id'].to_dict"
   ]
  },
  {
   "cell_type": "code",
   "execution_count": 179,
   "metadata": {},
   "outputs": [],
   "source": [
    "total_players = general_info_json.get('total_players')"
   ]
  },
  {
   "cell_type": "code",
   "execution_count": 180,
   "metadata": {},
   "outputs": [],
   "source": [
    "elements_df = pd.DataFrame(general_info_json['elements'])"
   ]
  },
  {
   "cell_type": "code",
   "execution_count": 181,
   "metadata": {},
   "outputs": [
    {
     "data": {
      "text/plain": [
       "Index(['chance_of_playing_next_round', 'chance_of_playing_this_round', 'code',\n",
       "       'cost_change_event', 'cost_change_event_fall', 'cost_change_start',\n",
       "       'cost_change_start_fall', 'dreamteam_count', 'element_type', 'ep_next',\n",
       "       'ep_this', 'event_points', 'first_name', 'form', 'id', 'in_dreamteam',\n",
       "       'news', 'news_added', 'now_cost', 'photo', 'points_per_game',\n",
       "       'second_name', 'selected_by_percent', 'special', 'squad_number',\n",
       "       'status', 'team', 'team_code', 'total_points', 'transfers_in',\n",
       "       'transfers_in_event', 'transfers_out', 'transfers_out_event',\n",
       "       'value_form', 'value_season', 'web_name', 'minutes', 'goals_scored',\n",
       "       'assists', 'clean_sheets', 'goals_conceded', 'own_goals',\n",
       "       'penalties_saved', 'penalties_missed', 'yellow_cards', 'red_cards',\n",
       "       'saves', 'bonus', 'bps', 'influence', 'creativity', 'threat',\n",
       "       'ict_index', 'influence_rank', 'influence_rank_type', 'creativity_rank',\n",
       "       'creativity_rank_type', 'threat_rank', 'threat_rank_type',\n",
       "       'ict_index_rank', 'ict_index_rank_type',\n",
       "       'corners_and_indirect_freekicks_order',\n",
       "       'corners_and_indirect_freekicks_text', 'direct_freekicks_order',\n",
       "       'direct_freekicks_text', 'penalties_order', 'penalties_text'],\n",
       "      dtype='object')"
      ]
     },
     "execution_count": 181,
     "metadata": {},
     "output_type": "execute_result"
    }
   ],
   "source": [
    "elements_df.keys()"
   ]
  },
  {
   "cell_type": "code",
   "execution_count": 182,
   "metadata": {},
   "outputs": [
    {
     "data": {
      "text/plain": [
       "id             0\n",
       "code           0\n",
       "first_name     0\n",
       "second_name    0\n",
       "web_name       0\n",
       "photo          0\n",
       "dtype: int64"
      ]
     },
     "execution_count": 182,
     "metadata": {},
     "output_type": "execute_result"
    }
   ],
   "source": [
    "player_id_df = elements_df[['id', 'code', 'first_name', 'second_name', 'web_name', 'photo']]\n",
    "player_id_df.isnull().sum()"
   ]
  },
  {
   "cell_type": "code",
   "execution_count": 183,
   "metadata": {},
   "outputs": [
    {
     "data": {
      "text/plain": [
       "id              0\n",
       "team_code       0\n",
       "element_type    0\n",
       "dtype: int64"
      ]
     },
     "execution_count": 183,
     "metadata": {},
     "output_type": "execute_result"
    }
   ],
   "source": [
    "player_team_position_df = elements_df[['id', 'team_code', 'element_type']]\n",
    "player_team_position_df.isnull().sum()"
   ]
  },
  {
   "cell_type": "code",
   "execution_count": 184,
   "metadata": {},
   "outputs": [
    {
     "data": {
      "text/plain": [
       "id                        0\n",
       "now_cost                  0\n",
       "cost_change_start         0\n",
       "cost_change_start_fall    0\n",
       "cost_change_event         0\n",
       "cost_change_event_fall    0\n",
       "dtype: int64"
      ]
     },
     "execution_count": 184,
     "metadata": {},
     "output_type": "execute_result"
    }
   ],
   "source": [
    "player_cost_df = elements_df[['id', 'now_cost', 'cost_change_start', 'cost_change_start_fall', 'cost_change_event', 'cost_change_event_fall']]\n",
    "player_cost_df.isnull().sum()"
   ]
  },
  {
   "cell_type": "code",
   "execution_count": 185,
   "metadata": {},
   "outputs": [
    {
     "data": {
      "text/plain": [
       "id        0\n",
       "status    0\n",
       "dtype: int64"
      ]
     },
     "execution_count": 185,
     "metadata": {},
     "output_type": "execute_result"
    }
   ],
   "source": [
    "player_status_df = elements_df[['id', 'status']]\n",
    "player_status_df.isnull().sum()"
   ]
  },
  {
   "cell_type": "code",
   "execution_count": 186,
   "metadata": {},
   "outputs": [
    {
     "data": {
      "text/plain": [
       "id              0\n",
       "event_points    0\n",
       "total_points    0\n",
       "bonus           0\n",
       "bps             0\n",
       "dtype: int64"
      ]
     },
     "execution_count": 186,
     "metadata": {},
     "output_type": "execute_result"
    }
   ],
   "source": [
    "player_points_df = elements_df[['id', 'event_points', 'total_points', 'bonus', 'bps']]\n",
    "player_points_df.isnull().sum()"
   ]
  },
  {
   "cell_type": "code",
   "execution_count": 187,
   "metadata": {},
   "outputs": [
    {
     "data": {
      "text/plain": [
       "id                     0\n",
       "transfers_in           0\n",
       "transfers_in_event     0\n",
       "transfers_out          0\n",
       "transfers_out_event    0\n",
       "selected_by_percent    0\n",
       "dtype: int64"
      ]
     },
     "execution_count": 187,
     "metadata": {},
     "output_type": "execute_result"
    }
   ],
   "source": [
    "player_user_transfers_df = elements_df[['id', 'transfers_in', 'transfers_in_event', 'transfers_out', 'transfers_out_event', 'selected_by_percent']]\n",
    "player_user_transfers_df.isnull().sum()"
   ]
  },
  {
   "cell_type": "code",
   "execution_count": 188,
   "metadata": {},
   "outputs": [
    {
     "data": {
      "text/plain": [
       "id                  0\n",
       "minutes             0\n",
       "goals_scored        0\n",
       "assists             0\n",
       "clean_sheets        0\n",
       "goals_conceded      0\n",
       "own_goals           0\n",
       "penalties_saved     0\n",
       "penalties_missed    0\n",
       "yellow_cards        0\n",
       "red_cards           0\n",
       "saves               0\n",
       "dtype: int64"
      ]
     },
     "execution_count": 188,
     "metadata": {},
     "output_type": "execute_result"
    }
   ],
   "source": [
    "player_stats_df = elements_df[['id', 'minutes', 'goals_scored', 'assists', 'clean_sheets', 'goals_conceded', 'own_goals', 'penalties_saved', 'penalties_missed', 'yellow_cards', 'red_cards', 'saves']]\n",
    "player_stats_df.isnull().sum()"
   ]
  },
  {
   "cell_type": "code",
   "execution_count": 189,
   "metadata": {},
   "outputs": [
    {
     "data": {
      "text/plain": [
       "id                 0\n",
       "value_form         0\n",
       "value_season       0\n",
       "points_per_game    0\n",
       "dtype: int64"
      ]
     },
     "execution_count": 189,
     "metadata": {},
     "output_type": "execute_result"
    }
   ],
   "source": [
    "player_value_df = elements_df[['id', 'value_form', 'value_season', 'points_per_game']]\n",
    "player_value_df.isnull().sum()"
   ]
  },
  {
   "cell_type": "code",
   "execution_count": 190,
   "metadata": {},
   "outputs": [
    {
     "data": {
      "text/plain": [
       "id                      0\n",
       "ep_next                 0\n",
       "ep_this                 0\n",
       "influence               0\n",
       "influence_rank          0\n",
       "creativity              0\n",
       "creativity_rank         0\n",
       "creativity_rank_type    0\n",
       "threat                  0\n",
       "threat_rank             0\n",
       "threat_rank_type        0\n",
       "ict_index               0\n",
       "ict_index_rank          0\n",
       "ict_index_rank_type     0\n",
       "dtype: int64"
      ]
     },
     "execution_count": 190,
     "metadata": {},
     "output_type": "execute_result"
    }
   ],
   "source": [
    "player_ep_ict_df = elements_df[['id', 'ep_next', 'ep_this', 'influence', 'influence_rank', 'creativity', 'creativity_rank', 'creativity_rank_type', 'threat', 'threat_rank', 'threat_rank_type', 'ict_index', 'ict_index_rank', 'ict_index_rank_type']]\n",
    "player_ep_ict_df.isnull().sum()"
   ]
  },
  {
   "cell_type": "code",
   "execution_count": 191,
   "metadata": {},
   "outputs": [
    {
     "data": {
      "text/plain": [
       "(id                                        0\n",
       " team_code                                 0\n",
       " corners_and_indirect_freekicks_order    524\n",
       " direct_freekicks_order                  547\n",
       " penalties_order                         552\n",
       " dtype: int64,\n",
       " id                                      618\n",
       " team_code                               618\n",
       " corners_and_indirect_freekicks_order     94\n",
       " direct_freekicks_order                   71\n",
       " penalties_order                          66\n",
       " dtype: int64)"
      ]
     },
     "execution_count": 191,
     "metadata": {},
     "output_type": "execute_result"
    }
   ],
   "source": [
    "player_set_piece_df = elements_df[['id', 'team_code', 'corners_and_indirect_freekicks_order', 'direct_freekicks_order', 'penalties_order']]\n",
    "player_set_piece_df.isnull().sum(), player_set_piece_df.notnull().sum()"
   ]
  },
  {
   "cell_type": "markdown",
   "metadata": {},
   "source": [
    "Most of the data in this dataframe is missing, however, the data that we have stored is useful."
   ]
  },
  {
   "cell_type": "code",
   "execution_count": 192,
   "metadata": {},
   "outputs": [
    {
     "data": {
      "text/plain": [
       "(array([nan,  4.,  1.,  3.,  2.,  5.,  6.,  7.]),\n",
       " array([nan,  5.,  4.,  3.,  2.,  1.]),\n",
       " array([nan,  1.,  2.,  3.,  4.,  5.,  6.]))"
      ]
     },
     "execution_count": 192,
     "metadata": {},
     "output_type": "execute_result"
    }
   ],
   "source": [
    "player_set_piece_df.corners_and_indirect_freekicks_order.unique(), player_set_piece_df.direct_freekicks_order.unique(), player_set_piece_df.penalties_order.unique()"
   ]
  },
  {
   "cell_type": "markdown",
   "metadata": {},
   "source": [
    "From the unique values shown, we can see that there is a good amount of useful data. The missing data is due to the unlikelyhood of more than 5-7 players being missing from a game. To confirm that there is a decent set piece order stored for every team, we will create bar charts to show the spread of data."
   ]
  },
  {
   "cell_type": "code",
   "execution_count": 193,
   "metadata": {},
   "outputs": [
    {
     "data": {
      "text/plain": [
       "count    94.000000\n",
       "mean      3.031915\n",
       "std       1.596044\n",
       "min       1.000000\n",
       "25%       2.000000\n",
       "50%       3.000000\n",
       "75%       4.000000\n",
       "max       7.000000\n",
       "Name: corners_and_indirect_freekicks_order, dtype: float64"
      ]
     },
     "execution_count": 193,
     "metadata": {},
     "output_type": "execute_result"
    }
   ],
   "source": [
    "player_set_piece_df.corners_and_indirect_freekicks_order.describe()"
   ]
  },
  {
   "cell_type": "code",
   "execution_count": 194,
   "metadata": {},
   "outputs": [
    {
     "data": {
      "text/plain": [
       "count    71.000000\n",
       "mean      2.521127\n",
       "std       1.296800\n",
       "min       1.000000\n",
       "25%       1.000000\n",
       "50%       2.000000\n",
       "75%       3.500000\n",
       "max       5.000000\n",
       "Name: direct_freekicks_order, dtype: float64"
      ]
     },
     "execution_count": 194,
     "metadata": {},
     "output_type": "execute_result"
    }
   ],
   "source": [
    "player_set_piece_df.direct_freekicks_order.describe()"
   ]
  },
  {
   "cell_type": "code",
   "execution_count": 195,
   "metadata": {},
   "outputs": [
    {
     "data": {
      "text/plain": [
       "count    66.000000\n",
       "mean      2.439394\n",
       "std       1.254270\n",
       "min       1.000000\n",
       "25%       1.000000\n",
       "50%       2.000000\n",
       "75%       3.000000\n",
       "max       6.000000\n",
       "Name: penalties_order, dtype: float64"
      ]
     },
     "execution_count": 195,
     "metadata": {},
     "output_type": "execute_result"
    }
   ],
   "source": [
    "player_set_piece_df.penalties_order.describe()"
   ]
  },
  {
   "cell_type": "markdown",
   "metadata": {},
   "source": [
    "As we can see from these dataframe stats, every team has at least 1 player who they prefer to take a set piece over other players. Also, the mean values show that for most of the teams there is a decent sized order of preference. For that reason, we will keep the data we have, just change the way it is stored so that it is grouped by the team (soon)."
   ]
  },
  {
   "cell_type": "code",
   "execution_count": 196,
   "metadata": {},
   "outputs": [
    {
     "data": {
      "text/plain": [
       "id                                      0\n",
       "team_code                               0\n",
       "corners_and_indirect_freekicks_order    0\n",
       "direct_freekicks_order                  0\n",
       "penalties_order                         0\n",
       "dtype: int64"
      ]
     },
     "execution_count": 196,
     "metadata": {},
     "output_type": "execute_result"
    }
   ],
   "source": [
    "try:\n",
    "    player_set_piece_df.fillna(0, inplace=True)\n",
    "except:\n",
    "    pass\n",
    "player_set_piece_df.isnull().sum()"
   ]
  },
  {
   "cell_type": "code",
   "execution_count": 197,
   "metadata": {},
   "outputs": [
    {
     "data": {
      "text/plain": [
       "id              0\n",
       "news            0\n",
       "news_added    285\n",
       "dtype: int64"
      ]
     },
     "execution_count": 197,
     "metadata": {},
     "output_type": "execute_result"
    }
   ],
   "source": [
    "news_df = elements_df[['id', 'news', 'news_added']]\n",
    "news_df.isnull().sum()"
   ]
  },
  {
   "cell_type": "markdown",
   "metadata": {},
   "source": [
    "News is important, however, should only be used if recent and up to date as old news will skew the predictions. We will remove any data which does not have a timestamp."
   ]
  },
  {
   "cell_type": "code",
   "execution_count": 198,
   "metadata": {},
   "outputs": [
    {
     "data": {
      "text/plain": [
       "id            0\n",
       "news          0\n",
       "news_added    0\n",
       "dtype: int64"
      ]
     },
     "execution_count": 198,
     "metadata": {},
     "output_type": "execute_result"
    }
   ],
   "source": [
    "try:\n",
    "    news_df.dropna(inplace=True, axis=0)\n",
    "except:\n",
    "    pass\n",
    "news_df.isnull().sum()"
   ]
  },
  {
   "cell_type": "code",
   "execution_count": 199,
   "metadata": {},
   "outputs": [
    {
     "data": {
      "text/plain": [
       "id                 0\n",
       "dreamteam_count    0\n",
       "in_dreamteam       0\n",
       "dtype: int64"
      ]
     },
     "execution_count": 199,
     "metadata": {},
     "output_type": "execute_result"
    }
   ],
   "source": [
    "player_dreamteam_df = elements_df[['id', 'dreamteam_count', 'in_dreamteam']]\n",
    "player_dreamteam_df.isnull().sum()"
   ]
  },
  {
   "cell_type": "code",
   "execution_count": 200,
   "metadata": {},
   "outputs": [
    {
     "data": {
      "text/plain": [
       "id                                0\n",
       "status                            0\n",
       "chance_of_playing_this_round    288\n",
       "chance_of_playing_next_round    285\n",
       "dtype: int64"
      ]
     },
     "execution_count": 200,
     "metadata": {},
     "output_type": "execute_result"
    }
   ],
   "source": [
    "chance_of_playing_df = elements_df[['id', 'status', 'chance_of_playing_this_round', 'chance_of_playing_next_round']]\n",
    "chance_of_playing_df.isnull().sum()"
   ]
  },
  {
   "cell_type": "markdown",
   "metadata": {},
   "source": [
    "I suspect that the missing data in this dataframe is due to the status of players, we can check this by finding out the types of status and splitting the dataframe. "
   ]
  },
  {
   "cell_type": "code",
   "execution_count": 201,
   "metadata": {},
   "outputs": [
    {
     "data": {
      "text/plain": [
       "array(['a', 'u', 'i', 'd', 'n', 's'], dtype=object)"
      ]
     },
     "execution_count": 201,
     "metadata": {},
     "output_type": "execute_result"
    }
   ],
   "source": [
    "chance_of_playing_df.status.unique()"
   ]
  },
  {
   "cell_type": "code",
   "execution_count": 202,
   "metadata": {},
   "outputs": [],
   "source": [
    "status_grouped_df = chance_of_playing_df.groupby(chance_of_playing_df.status)\n",
    "a_status_df = status_grouped_df.get_group('a') # available\n",
    "u_status_df = status_grouped_df.get_group('u') # unavailable\n",
    "i_status_df = status_grouped_df.get_group('i') # injured\n",
    "d_status_df = status_grouped_df.get_group('d') # returning from injury soon\n",
    "n_status_df = status_grouped_df.get_group('n') # other\n",
    "s_status_df = status_grouped_df.get_group('s') # suspended"
   ]
  },
  {
   "cell_type": "markdown",
   "metadata": {},
   "source": [
    "Now that the dataframes have been split, we can check which have the most missing data to see if one group is having a large affent on the amount, or whether it is random missing data."
   ]
  },
  {
   "cell_type": "code",
   "execution_count": 203,
   "metadata": {},
   "outputs": [
    {
     "data": {
      "text/plain": [
       "(id                                0\n",
       " status                            0\n",
       " chance_of_playing_this_round    285\n",
       " chance_of_playing_next_round    285\n",
       " dtype: int64,\n",
       " id                              0\n",
       " status                          0\n",
       " chance_of_playing_this_round    0\n",
       " chance_of_playing_next_round    0\n",
       " dtype: int64,\n",
       " id                              0\n",
       " status                          0\n",
       " chance_of_playing_this_round    0\n",
       " chance_of_playing_next_round    0\n",
       " dtype: int64,\n",
       " id                              0\n",
       " status                          0\n",
       " chance_of_playing_this_round    2\n",
       " chance_of_playing_next_round    0\n",
       " dtype: int64,\n",
       " id                              0\n",
       " status                          0\n",
       " chance_of_playing_this_round    0\n",
       " chance_of_playing_next_round    0\n",
       " dtype: int64,\n",
       " id                              0\n",
       " status                          0\n",
       " chance_of_playing_this_round    1\n",
       " chance_of_playing_next_round    0\n",
       " dtype: int64)"
      ]
     },
     "execution_count": 203,
     "metadata": {},
     "output_type": "execute_result"
    }
   ],
   "source": [
    "a_status_df.isnull().sum(), u_status_df.isnull().sum(), i_status_df.isnull().sum(), d_status_df.isnull().sum(), n_status_df.isnull().sum(), s_status_df.isnull().sum()"
   ]
  },
  {
   "cell_type": "markdown",
   "metadata": {},
   "source": [
    "This is the majority of the missing data, as suspected, the status plays a part in this. I assume it is difficult to gather predictions on whether or not an available player is going to play without further calculations."
   ]
  },
  {
   "cell_type": "markdown",
   "metadata": {},
   "source": [
    "For now, we can use this dataframe to store the chance of availability of players who are not 100% available (status != a)"
   ]
  },
  {
   "cell_type": "code",
   "execution_count": 204,
   "metadata": {},
   "outputs": [
    {
     "data": {
      "text/plain": [
       "id                              0\n",
       "status                          0\n",
       "chance_of_playing_this_round    3\n",
       "chance_of_playing_next_round    0\n",
       "dtype: int64"
      ]
     },
     "execution_count": 204,
     "metadata": {},
     "output_type": "execute_result"
    }
   ],
   "source": [
    "# removing all rows of 100% available players.\n",
    "chance_of_playing_df = chance_of_playing_df[chance_of_playing_df.status != 'a']\n",
    "chance_of_playing_df.isnull().sum()"
   ]
  },
  {
   "cell_type": "markdown",
   "metadata": {},
   "source": [
    "As there is still a small amount of missing data which cannot be predicted accurately, it is easier to just presume the player will not be available, to avaid losing points in the event."
   ]
  },
  {
   "cell_type": "code",
   "execution_count": 205,
   "metadata": {},
   "outputs": [
    {
     "data": {
      "text/plain": [
       "id                              0\n",
       "status                          0\n",
       "chance_of_playing_this_round    0\n",
       "chance_of_playing_next_round    0\n",
       "dtype: int64"
      ]
     },
     "execution_count": 205,
     "metadata": {},
     "output_type": "execute_result"
    }
   ],
   "source": [
    "try:\n",
    "    chance_of_playing_df.fillna(0, inplace=True)\n",
    "except:\n",
    "    pass\n",
    "chance_of_playing_df.isnull().sum()"
   ]
  },
  {
   "cell_type": "code",
   "execution_count": 206,
   "metadata": {},
   "outputs": [
    {
     "data": {
      "text/plain": [
       "label    0\n",
       "name     0\n",
       "dtype: int64"
      ]
     },
     "execution_count": 206,
     "metadata": {},
     "output_type": "execute_result"
    }
   ],
   "source": [
    "element_stats_df = pd.DataFrame(general_info_json['element_stats'])\n",
    "element_stats_df.isnull().sum()"
   ]
  },
  {
   "cell_type": "code",
   "execution_count": 207,
   "metadata": {},
   "outputs": [
    {
     "data": {
      "text/plain": [
       "id                      0\n",
       "plural_name             0\n",
       "plural_name_short       0\n",
       "singular_name           0\n",
       "singular_name_short     0\n",
       "squad_select            0\n",
       "squad_min_play          0\n",
       "squad_max_play          0\n",
       "ui_shirt_specific       0\n",
       "sub_positions_locked    0\n",
       "element_count           0\n",
       "dtype: int64"
      ]
     },
     "execution_count": 207,
     "metadata": {},
     "output_type": "execute_result"
    }
   ],
   "source": [
    "element_types_df = pd.DataFrame(general_info_json['element_types'])\n",
    "element_types_df.isnull().sum()"
   ]
  },
  {
   "cell_type": "code",
   "execution_count": 208,
   "metadata": {},
   "outputs": [
    {
     "data": {
      "text/plain": [
       "dict_keys(['code', 'event', 'finished', 'finished_provisional', 'id', 'kickoff_time', 'minutes', 'provisional_start_time', 'started', 'team_a', 'team_a_score', 'team_h', 'team_h_score', 'stats', 'team_h_difficulty', 'team_a_difficulty', 'pulse_id'])"
      ]
     },
     "execution_count": 208,
     "metadata": {},
     "output_type": "execute_result"
    }
   ],
   "source": [
    "# gets a list of keys of the json\n",
    "fixtures_json[0].keys()"
   ]
  },
  {
   "cell_type": "code",
   "execution_count": 209,
   "metadata": {},
   "outputs": [
    {
     "data": {
      "text/html": [
       "<div>\n",
       "<style scoped>\n",
       "    .dataframe tbody tr th:only-of-type {\n",
       "        vertical-align: middle;\n",
       "    }\n",
       "\n",
       "    .dataframe tbody tr th {\n",
       "        vertical-align: top;\n",
       "    }\n",
       "\n",
       "    .dataframe thead th {\n",
       "        text-align: right;\n",
       "    }\n",
       "</style>\n",
       "<table border=\"1\" class=\"dataframe\">\n",
       "  <thead>\n",
       "    <tr style=\"text-align: right;\">\n",
       "      <th></th>\n",
       "      <th>code</th>\n",
       "      <th>event</th>\n",
       "      <th>finished</th>\n",
       "      <th>finished_provisional</th>\n",
       "      <th>id</th>\n",
       "      <th>kickoff_time</th>\n",
       "      <th>minutes</th>\n",
       "      <th>provisional_start_time</th>\n",
       "      <th>started</th>\n",
       "      <th>team_a</th>\n",
       "      <th>team_a_score</th>\n",
       "      <th>team_h</th>\n",
       "      <th>team_h_score</th>\n",
       "      <th>stats</th>\n",
       "      <th>team_h_difficulty</th>\n",
       "      <th>team_a_difficulty</th>\n",
       "      <th>pulse_id</th>\n",
       "    </tr>\n",
       "  </thead>\n",
       "  <tbody>\n",
       "    <tr>\n",
       "      <th>0</th>\n",
       "      <td>2210271</td>\n",
       "      <td>1</td>\n",
       "      <td>True</td>\n",
       "      <td>True</td>\n",
       "      <td>1</td>\n",
       "      <td>2021-08-13T19:00:00Z</td>\n",
       "      <td>90</td>\n",
       "      <td>False</td>\n",
       "      <td>True</td>\n",
       "      <td>1</td>\n",
       "      <td>0.0</td>\n",
       "      <td>3</td>\n",
       "      <td>2.0</td>\n",
       "      <td>[{'identifier': 'goals_scored', 'a': [], 'h': ...</td>\n",
       "      <td>3</td>\n",
       "      <td>2</td>\n",
       "      <td>66342</td>\n",
       "    </tr>\n",
       "    <tr>\n",
       "      <th>1</th>\n",
       "      <td>2210276</td>\n",
       "      <td>1</td>\n",
       "      <td>True</td>\n",
       "      <td>True</td>\n",
       "      <td>6</td>\n",
       "      <td>2021-08-14T11:30:00Z</td>\n",
       "      <td>90</td>\n",
       "      <td>False</td>\n",
       "      <td>True</td>\n",
       "      <td>10</td>\n",
       "      <td>1.0</td>\n",
       "      <td>13</td>\n",
       "      <td>5.0</td>\n",
       "      <td>[{'identifier': 'goals_scored', 'a': [{'value'...</td>\n",
       "      <td>2</td>\n",
       "      <td>4</td>\n",
       "      <td>66347</td>\n",
       "    </tr>\n",
       "    <tr>\n",
       "      <th>2</th>\n",
       "      <td>2210272</td>\n",
       "      <td>1</td>\n",
       "      <td>True</td>\n",
       "      <td>True</td>\n",
       "      <td>2</td>\n",
       "      <td>2021-08-14T14:00:00Z</td>\n",
       "      <td>90</td>\n",
       "      <td>False</td>\n",
       "      <td>True</td>\n",
       "      <td>4</td>\n",
       "      <td>2.0</td>\n",
       "      <td>5</td>\n",
       "      <td>1.0</td>\n",
       "      <td>[{'identifier': 'goals_scored', 'a': [{'value'...</td>\n",
       "      <td>3</td>\n",
       "      <td>2</td>\n",
       "      <td>66343</td>\n",
       "    </tr>\n",
       "    <tr>\n",
       "      <th>3</th>\n",
       "      <td>2210273</td>\n",
       "      <td>1</td>\n",
       "      <td>True</td>\n",
       "      <td>True</td>\n",
       "      <td>3</td>\n",
       "      <td>2021-08-14T14:00:00Z</td>\n",
       "      <td>90</td>\n",
       "      <td>False</td>\n",
       "      <td>True</td>\n",
       "      <td>7</td>\n",
       "      <td>0.0</td>\n",
       "      <td>6</td>\n",
       "      <td>3.0</td>\n",
       "      <td>[{'identifier': 'goals_scored', 'a': [], 'h': ...</td>\n",
       "      <td>2</td>\n",
       "      <td>5</td>\n",
       "      <td>66344</td>\n",
       "    </tr>\n",
       "    <tr>\n",
       "      <th>4</th>\n",
       "      <td>2210274</td>\n",
       "      <td>1</td>\n",
       "      <td>True</td>\n",
       "      <td>True</td>\n",
       "      <td>4</td>\n",
       "      <td>2021-08-14T14:00:00Z</td>\n",
       "      <td>90</td>\n",
       "      <td>False</td>\n",
       "      <td>True</td>\n",
       "      <td>16</td>\n",
       "      <td>1.0</td>\n",
       "      <td>8</td>\n",
       "      <td>3.0</td>\n",
       "      <td>[{'identifier': 'goals_scored', 'a': [{'value'...</td>\n",
       "      <td>2</td>\n",
       "      <td>4</td>\n",
       "      <td>66345</td>\n",
       "    </tr>\n",
       "  </tbody>\n",
       "</table>\n",
       "</div>"
      ],
      "text/plain": [
       "      code  event  finished  finished_provisional  id          kickoff_time  \\\n",
       "0  2210271      1      True                  True   1  2021-08-13T19:00:00Z   \n",
       "1  2210276      1      True                  True   6  2021-08-14T11:30:00Z   \n",
       "2  2210272      1      True                  True   2  2021-08-14T14:00:00Z   \n",
       "3  2210273      1      True                  True   3  2021-08-14T14:00:00Z   \n",
       "4  2210274      1      True                  True   4  2021-08-14T14:00:00Z   \n",
       "\n",
       "   minutes  provisional_start_time  started  team_a  team_a_score  team_h  \\\n",
       "0       90                   False     True       1           0.0       3   \n",
       "1       90                   False     True      10           1.0      13   \n",
       "2       90                   False     True       4           2.0       5   \n",
       "3       90                   False     True       7           0.0       6   \n",
       "4       90                   False     True      16           1.0       8   \n",
       "\n",
       "   team_h_score                                              stats  \\\n",
       "0           2.0  [{'identifier': 'goals_scored', 'a': [], 'h': ...   \n",
       "1           5.0  [{'identifier': 'goals_scored', 'a': [{'value'...   \n",
       "2           1.0  [{'identifier': 'goals_scored', 'a': [{'value'...   \n",
       "3           3.0  [{'identifier': 'goals_scored', 'a': [], 'h': ...   \n",
       "4           3.0  [{'identifier': 'goals_scored', 'a': [{'value'...   \n",
       "\n",
       "   team_h_difficulty  team_a_difficulty  pulse_id  \n",
       "0                  3                  2     66342  \n",
       "1                  2                  4     66347  \n",
       "2                  3                  2     66343  \n",
       "3                  2                  5     66344  \n",
       "4                  2                  4     66345  "
      ]
     },
     "execution_count": 209,
     "metadata": {},
     "output_type": "execute_result"
    }
   ],
   "source": [
    "fixtures_df = pd.DataFrame(fixtures_json)\n",
    "fixtures_df.head()"
   ]
  },
  {
   "cell_type": "code",
   "execution_count": 210,
   "metadata": {},
   "outputs": [
    {
     "data": {
      "text/plain": [
       "id       0\n",
       "code     0\n",
       "event    0\n",
       "dtype: int64"
      ]
     },
     "execution_count": 210,
     "metadata": {},
     "output_type": "execute_result"
    }
   ],
   "source": [
    "fixtures_event_code_df = fixtures_df[['id', 'code', 'event']]\n",
    "fixtures_event_code_df.isnull().sum()"
   ]
  },
  {
   "cell_type": "code",
   "execution_count": 211,
   "metadata": {},
   "outputs": [
    {
     "data": {
      "text/plain": [
       "id                      0\n",
       "kickoff_time            0\n",
       "minutes                 0\n",
       "started                 0\n",
       "finished                0\n",
       "finished_provisional    0\n",
       "dtype: int64"
      ]
     },
     "execution_count": 211,
     "metadata": {},
     "output_type": "execute_result"
    }
   ],
   "source": [
    "fixtures_timings_df = fixtures_df[['id', 'kickoff_time', 'minutes', 'started', 'finished', 'finished_provisional']]\n",
    "fixtures_timings_df.isnull().sum()"
   ]
  },
  {
   "cell_type": "code",
   "execution_count": 212,
   "metadata": {},
   "outputs": [
    {
     "data": {
      "text/plain": [
       "id        0\n",
       "team_h    0\n",
       "team_a    0\n",
       "dtype: int64"
      ]
     },
     "execution_count": 212,
     "metadata": {},
     "output_type": "execute_result"
    }
   ],
   "source": [
    "fixtures_teams_df = fixtures_df[['id', 'team_h', 'team_a']]\n",
    "fixtures_teams_df.isnull().sum()"
   ]
  },
  {
   "cell_type": "code",
   "execution_count": 213,
   "metadata": {},
   "outputs": [
    {
     "data": {
      "text/plain": [
       "id                0\n",
       "team_h_score    293\n",
       "team_a_score    293\n",
       "dtype: int64"
      ]
     },
     "execution_count": 213,
     "metadata": {},
     "output_type": "execute_result"
    }
   ],
   "source": [
    "fixtures_scores_df = fixtures_df[['id', 'team_h_score', 'team_a_score']]\n",
    "fixtures_scores_df.isnull().sum()"
   ]
  },
  {
   "cell_type": "code",
   "execution_count": 214,
   "metadata": {},
   "outputs": [
    {
     "data": {
      "text/plain": [
       "id              0\n",
       "team_h_score    0\n",
       "team_a_score    0\n",
       "dtype: int64"
      ]
     },
     "execution_count": 214,
     "metadata": {},
     "output_type": "execute_result"
    }
   ],
   "source": [
    "try:\n",
    "    fixtures_scores_df.dropna(inplace=True, axis=0)\n",
    "except:\n",
    "    pass\n",
    "fixtures_scores_df.isnull().sum()"
   ]
  },
  {
   "cell_type": "code",
   "execution_count": 218,
   "metadata": {},
   "outputs": [
    {
     "data": {
      "text/plain": [
       "id                   0\n",
       "team_h_difficulty    0\n",
       "team_a_difficulty    0\n",
       "dtype: int64"
      ]
     },
     "execution_count": 218,
     "metadata": {},
     "output_type": "execute_result"
    }
   ],
   "source": [
    "fixtures_difficulty_df = fixtures_df[['id', 'team_h_difficulty', 'team_a_difficulty']]\n",
    "fixtures_difficulty_df.isnull().sum()"
   ]
  }
 ],
 "metadata": {
  "interpreter": {
   "hash": "609cdfdd6335d9257acae93d12862b48f821f0c4fd0e4ddb0030b97e74f22700"
  },
  "kernelspec": {
   "display_name": "Python 3.7.11 64-bit ('capstone-project-env': conda)",
   "name": "python3"
  },
  "language_info": {
   "codemirror_mode": {
    "name": "ipython",
    "version": 3
   },
   "file_extension": ".py",
   "mimetype": "text/x-python",
   "name": "python",
   "nbconvert_exporter": "python",
   "pygments_lexer": "ipython3",
   "version": "3.7.11"
  }
 },
 "nbformat": 4,
 "nbformat_minor": 5
}
