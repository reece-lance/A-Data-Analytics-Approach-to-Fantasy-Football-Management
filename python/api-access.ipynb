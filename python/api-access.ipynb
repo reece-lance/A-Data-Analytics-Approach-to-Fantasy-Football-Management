{
 "cells": [
  {
   "cell_type": "code",
   "execution_count": 218,
   "metadata": {},
   "outputs": [],
   "source": [
    "# imports\n",
    "import requests\n",
    "import pandas as pd\n",
    "import numpy as np"
   ]
  },
  {
   "cell_type": "code",
   "execution_count": 219,
   "metadata": {},
   "outputs": [],
   "source": [
    "# gets data from API\n",
    "def fetchData(url):\n",
    "    try:\n",
    "        r = requests.get(url)\n",
    "        return r.json()\n",
    "    except:\n",
    "        return None"
   ]
  },
  {
   "cell_type": "code",
   "execution_count": 220,
   "metadata": {
    "scrolled": true
   },
   "outputs": [],
   "source": [
    "# calls fetchData function for chosen URL\n",
    "general_info_json = fetchData('https://fantasy.premierleague.com/api/bootstrap-static/')\n",
    "fixtures_json = fetchData('https://fantasy.premierleague.com/api/fixtures/')\n",
    "#players_detailed_json = fetchData('https://fantasy.premierleague.com/api/element-summary/{' + element_id + '}/')\n",
    "#gameweek_live_json = fetchData('https://fantasy.premierleague.com/api/event/{' + event_id + '}/live/')"
   ]
  },
  {
   "cell_type": "code",
   "execution_count": 221,
   "metadata": {},
   "outputs": [
    {
     "data": {
      "text/plain": [
       "dict_keys(['events', 'game_settings', 'phases', 'teams', 'total_players', 'elements', 'element_stats', 'element_types'])"
      ]
     },
     "execution_count": 221,
     "metadata": {},
     "output_type": "execute_result"
    }
   ],
   "source": [
    "# gets a list of keys of the json\n",
    "general_info_json.keys()"
   ]
  },
  {
   "cell_type": "code",
   "execution_count": 222,
   "metadata": {},
   "outputs": [],
   "source": [
    "events_df = pd.DataFrame(general_info_json['events'])"
   ]
  },
  {
   "cell_type": "code",
   "execution_count": 223,
   "metadata": {},
   "outputs": [
    {
     "data": {
      "text/plain": [
       "id                            0\n",
       "name                          0\n",
       "deadline_time                 0\n",
       "average_entry_score           0\n",
       "finished                      0\n",
       "data_checked                  0\n",
       "highest_scoring_entry        30\n",
       "deadline_time_epoch           0\n",
       "deadline_time_game_offset     0\n",
       "highest_score                30\n",
       "is_previous                   0\n",
       "is_current                    0\n",
       "is_next                       0\n",
       "chip_plays                    0\n",
       "most_selected                30\n",
       "most_transferred_in          30\n",
       "top_element                  30\n",
       "top_element_info             30\n",
       "transfers_made                0\n",
       "most_captained               30\n",
       "most_vice_captained          30\n",
       "dtype: int64"
      ]
     },
     "execution_count": 223,
     "metadata": {},
     "output_type": "execute_result"
    }
   ],
   "source": [
    "# shows how many values are null for each column\n",
    "events_df.isnull().sum()"
   ]
  },
  {
   "cell_type": "code",
   "execution_count": 224,
   "metadata": {},
   "outputs": [],
   "source": [
    "# creates 2 dataframes with rows split based on whether the value in \"finished\" is True or False\n",
    "data_checked = events_df.groupby(events_df.finished)\n",
    "data_checked_df = data_checked.get_group(True)\n",
    "data_not_checked_df = data_checked.get_group(False)\n",
    "\n",
    "# https://www.delftstack.com/howto/python-pandas/split-pandas-dataframe/"
   ]
  },
  {
   "cell_type": "code",
   "execution_count": 225,
   "metadata": {},
   "outputs": [
    {
     "data": {
      "text/plain": [
       "id                           0\n",
       "name                         0\n",
       "deadline_time                0\n",
       "average_entry_score          0\n",
       "finished                     0\n",
       "data_checked                 0\n",
       "highest_scoring_entry        0\n",
       "deadline_time_epoch          0\n",
       "deadline_time_game_offset    0\n",
       "highest_score                0\n",
       "is_previous                  0\n",
       "is_current                   0\n",
       "is_next                      0\n",
       "chip_plays                   0\n",
       "most_selected                0\n",
       "most_transferred_in          0\n",
       "top_element                  0\n",
       "top_element_info             0\n",
       "transfers_made               0\n",
       "most_captained               0\n",
       "most_vice_captained          0\n",
       "dtype: int64"
      ]
     },
     "execution_count": 225,
     "metadata": {},
     "output_type": "execute_result"
    }
   ],
   "source": [
    "data_checked_df.isnull().sum()"
   ]
  },
  {
   "cell_type": "markdown",
   "metadata": {},
   "source": [
    "No missing values in data_checked_df (all missing values moved to data_not_checked_df)"
   ]
  },
  {
   "cell_type": "code",
   "execution_count": 226,
   "metadata": {},
   "outputs": [
    {
     "data": {
      "text/plain": [
       "id                            0\n",
       "name                          0\n",
       "deadline_time                 0\n",
       "average_entry_score           0\n",
       "finished                      0\n",
       "data_checked                  0\n",
       "highest_scoring_entry        30\n",
       "deadline_time_epoch           0\n",
       "deadline_time_game_offset     0\n",
       "highest_score                30\n",
       "is_previous                   0\n",
       "is_current                    0\n",
       "is_next                       0\n",
       "chip_plays                    0\n",
       "most_selected                30\n",
       "most_transferred_in          30\n",
       "top_element                  30\n",
       "top_element_info             30\n",
       "transfers_made                0\n",
       "most_captained               30\n",
       "most_vice_captained          30\n",
       "dtype: int64"
      ]
     },
     "execution_count": 226,
     "metadata": {},
     "output_type": "execute_result"
    }
   ],
   "source": [
    "data_not_checked_df.isnull().sum()"
   ]
  },
  {
   "cell_type": "code",
   "execution_count": 227,
   "metadata": {},
   "outputs": [
    {
     "data": {
      "text/plain": [
       "id                           0\n",
       "name                         0\n",
       "deadline_time                0\n",
       "average_entry_score          0\n",
       "finished                     0\n",
       "data_checked                 0\n",
       "deadline_time_epoch          0\n",
       "deadline_time_game_offset    0\n",
       "is_previous                  0\n",
       "is_current                   0\n",
       "is_next                      0\n",
       "chip_plays                   0\n",
       "transfers_made               0\n",
       "dtype: int64"
      ]
     },
     "execution_count": 227,
     "metadata": {},
     "output_type": "execute_result"
    }
   ],
   "source": [
    "# removes all columns with missing data from data_not_checked_df\n",
    "try:\n",
    "    data_not_checked_df.dropna(axis=1, inplace=True)\n",
    "except:\n",
    "    pass\n",
    "data_not_checked_df.isnull().sum()"
   ]
  },
  {
   "cell_type": "markdown",
   "metadata": {},
   "source": [
    "This proves that the removed columns from data_not_checked_df were missing values in certain columns, as those held data which can only exist once the data has been checked (as suspected). Since we have proven this, we can refactor events_df into two new dataframes, one containing the general event data and the other containing detailed data and stats, only for the events which have had the data checked."
   ]
  },
  {
   "cell_type": "code",
   "execution_count": 228,
   "metadata": {},
   "outputs": [],
   "source": [
    "# general event data (checked and non-checked data)\n",
    "general_events_info_df = events_df[['id', 'name', 'deadline_time', 'is_previous', 'is_current', 'is_next', 'finished', 'data_checked']]"
   ]
  },
  {
   "cell_type": "code",
   "execution_count": 229,
   "metadata": {},
   "outputs": [
    {
     "data": {
      "text/plain": [
       "id               0\n",
       "name             0\n",
       "deadline_time    0\n",
       "is_previous      0\n",
       "is_current       0\n",
       "is_next          0\n",
       "finished         0\n",
       "data_checked     0\n",
       "dtype: int64"
      ]
     },
     "execution_count": 229,
     "metadata": {},
     "output_type": "execute_result"
    }
   ],
   "source": [
    "general_events_info_df.isnull().sum()"
   ]
  },
  {
   "cell_type": "markdown",
   "metadata": {},
   "source": [
    "No missing data as data can exist without the data being checked and updated once the event is finished."
   ]
  },
  {
   "cell_type": "code",
   "execution_count": 230,
   "metadata": {},
   "outputs": [],
   "source": [
    "# detailed data and stats (checked data only)\n",
    "general_events_stats_df = data_checked_df[['id', 'average_entry_score', 'deadline_time_epoch', 'deadline_time_game_offset', 'chip_plays', 'transfers_made']]"
   ]
  },
  {
   "cell_type": "code",
   "execution_count": 231,
   "metadata": {},
   "outputs": [
    {
     "data": {
      "text/plain": [
       "id                           0\n",
       "average_entry_score          0\n",
       "deadline_time_epoch          0\n",
       "deadline_time_game_offset    0\n",
       "chip_plays                   0\n",
       "transfers_made               0\n",
       "dtype: int64"
      ]
     },
     "execution_count": 231,
     "metadata": {},
     "output_type": "execute_result"
    }
   ],
   "source": [
    "general_events_stats_df.isnull().sum()"
   ]
  },
  {
   "cell_type": "markdown",
   "metadata": {},
   "source": [
    "We now have the two dataframes as planned with no missing data."
   ]
  },
  {
   "cell_type": "code",
   "execution_count": 232,
   "metadata": {},
   "outputs": [
    {
     "data": {
      "text/plain": [
       "id             0\n",
       "name           0\n",
       "start_event    0\n",
       "stop_event     0\n",
       "dtype: int64"
      ]
     },
     "execution_count": 232,
     "metadata": {},
     "output_type": "execute_result"
    }
   ],
   "source": [
    "phases_df = pd.DataFrame(general_info_json['phases'])\n",
    "phases_df.isnull().sum()"
   ]
  },
  {
   "cell_type": "code",
   "execution_count": 233,
   "metadata": {},
   "outputs": [
    {
     "data": {
      "text/plain": [
       "code                      0\n",
       "draw                      0\n",
       "form                     20\n",
       "id                        0\n",
       "loss                      0\n",
       "name                      0\n",
       "played                    0\n",
       "points                    0\n",
       "position                  0\n",
       "short_name                0\n",
       "strength                  0\n",
       "team_division            20\n",
       "unavailable               0\n",
       "win                       0\n",
       "strength_overall_home     0\n",
       "strength_overall_away     0\n",
       "strength_attack_home      0\n",
       "strength_attack_away      0\n",
       "strength_defence_home     0\n",
       "strength_defence_away     0\n",
       "pulse_id                  0\n",
       "dtype: int64"
      ]
     },
     "execution_count": 233,
     "metadata": {},
     "output_type": "execute_result"
    }
   ],
   "source": [
    "teams_df = pd.DataFrame(general_info_json['teams'])\n",
    "teams_df.isnull().sum()"
   ]
  },
  {
   "cell_type": "code",
   "execution_count": 234,
   "metadata": {},
   "outputs": [],
   "source": [
    "# Need to work out the best way to calculate form of a team.\n",
    "def calculateTeamForm():\n",
    "    return"
   ]
  },
  {
   "cell_type": "code",
   "execution_count": 235,
   "metadata": {},
   "outputs": [
    {
     "data": {
      "text/plain": [
       "code                      0\n",
       "draw                      0\n",
       "form                     20\n",
       "id                        0\n",
       "loss                      0\n",
       "name                      0\n",
       "played                    0\n",
       "points                    0\n",
       "position                  0\n",
       "short_name                0\n",
       "strength                  0\n",
       "unavailable               0\n",
       "win                       0\n",
       "strength_overall_home     0\n",
       "strength_overall_away     0\n",
       "strength_attack_home      0\n",
       "strength_attack_away      0\n",
       "strength_defence_home     0\n",
       "strength_defence_away     0\n",
       "pulse_id                  0\n",
       "dtype: int64"
      ]
     },
     "execution_count": 235,
     "metadata": {},
     "output_type": "execute_result"
    }
   ],
   "source": [
    "\n",
    "try:\n",
    "    teams_df.drop('team_division', inplace=True, axis=1)\n",
    "except:\n",
    "    pass\n",
    "teams_df.isnull().sum()"
   ]
  },
  {
   "cell_type": "markdown",
   "metadata": {},
   "source": [
    "We are not dropping the 'form' column as that is something which will be useful in our models, despite the missing values (we will calculate our own values)"
   ]
  },
  {
   "cell_type": "code",
   "execution_count": 236,
   "metadata": {},
   "outputs": [
    {
     "data": {
      "text/plain": [
       "8429286"
      ]
     },
     "execution_count": 236,
     "metadata": {},
     "output_type": "execute_result"
    }
   ],
   "source": [
    "general_info_json.get('total_players')"
   ]
  },
  {
   "cell_type": "code",
   "execution_count": 237,
   "metadata": {},
   "outputs": [],
   "source": [
    "elements_df = pd.DataFrame(general_info_json['elements'])"
   ]
  },
  {
   "cell_type": "code",
   "execution_count": 238,
   "metadata": {},
   "outputs": [
    {
     "data": {
      "text/plain": [
       "Index(['chance_of_playing_next_round', 'chance_of_playing_this_round', 'code',\n",
       "       'cost_change_event', 'cost_change_event_fall', 'cost_change_start',\n",
       "       'cost_change_start_fall', 'dreamteam_count', 'element_type', 'ep_next',\n",
       "       'ep_this', 'event_points', 'first_name', 'form', 'id', 'in_dreamteam',\n",
       "       'news', 'news_added', 'now_cost', 'photo', 'points_per_game',\n",
       "       'second_name', 'selected_by_percent', 'special', 'squad_number',\n",
       "       'status', 'team', 'team_code', 'total_points', 'transfers_in',\n",
       "       'transfers_in_event', 'transfers_out', 'transfers_out_event',\n",
       "       'value_form', 'value_season', 'web_name', 'minutes', 'goals_scored',\n",
       "       'assists', 'clean_sheets', 'goals_conceded', 'own_goals',\n",
       "       'penalties_saved', 'penalties_missed', 'yellow_cards', 'red_cards',\n",
       "       'saves', 'bonus', 'bps', 'influence', 'creativity', 'threat',\n",
       "       'ict_index', 'influence_rank', 'influence_rank_type', 'creativity_rank',\n",
       "       'creativity_rank_type', 'threat_rank', 'threat_rank_type',\n",
       "       'ict_index_rank', 'ict_index_rank_type',\n",
       "       'corners_and_indirect_freekicks_order',\n",
       "       'corners_and_indirect_freekicks_text', 'direct_freekicks_order',\n",
       "       'direct_freekicks_text', 'penalties_order', 'penalties_text'],\n",
       "      dtype='object')"
      ]
     },
     "execution_count": 238,
     "metadata": {},
     "output_type": "execute_result"
    }
   ],
   "source": [
    "elements_df.keys()"
   ]
  },
  {
   "cell_type": "code",
   "execution_count": 239,
   "metadata": {},
   "outputs": [
    {
     "data": {
      "text/plain": [
       "id                                0\n",
       "status                            0\n",
       "chance_of_playing_this_round    297\n",
       "chance_of_playing_next_round    291\n",
       "dtype: int64"
      ]
     },
     "execution_count": 239,
     "metadata": {},
     "output_type": "execute_result"
    }
   ],
   "source": [
    "chance_of_playing_df = elements_df[['id', 'status', 'chance_of_playing_this_round', 'chance_of_playing_next_round']]\n",
    "chance_of_playing_df.isnull().sum()"
   ]
  },
  {
   "cell_type": "markdown",
   "metadata": {},
   "source": [
    "I suspect that the missing data in this dataframe is due to the status of players, we can check this by finding out the types of status and splitting the dataframe. "
   ]
  },
  {
   "cell_type": "code",
   "execution_count": 240,
   "metadata": {},
   "outputs": [
    {
     "data": {
      "text/plain": [
       "array(['a', 'u', 'i', 'd', 'n', 's'], dtype=object)"
      ]
     },
     "execution_count": 240,
     "metadata": {},
     "output_type": "execute_result"
    }
   ],
   "source": [
    "chance_of_playing_df.status.unique()"
   ]
  },
  {
   "cell_type": "code",
   "execution_count": 241,
   "metadata": {},
   "outputs": [],
   "source": [
    "status_grouped_df = chance_of_playing_df.groupby(chance_of_playing_df.status)\n",
    "a_status_df = status_grouped_df.get_group('a') # available\n",
    "u_status_df = status_grouped_df.get_group('u') # unavailable\n",
    "i_status_df = status_grouped_df.get_group('i') # injured\n",
    "d_status_df = status_grouped_df.get_group('d') # returning from injury soon\n",
    "n_status_df = status_grouped_df.get_group('n') # other\n",
    "s_status_df = status_grouped_df.get_group('s') # suspended"
   ]
  },
  {
   "cell_type": "markdown",
   "metadata": {},
   "source": [
    "Now that the dataframes have been split, we can check which have the most missing data to see if one group is having a large affent on the amount, or whether it is random missing data."
   ]
  },
  {
   "cell_type": "code",
   "execution_count": 242,
   "metadata": {},
   "outputs": [
    {
     "data": {
      "text/plain": [
       "id                                0\n",
       "status                            0\n",
       "chance_of_playing_this_round    291\n",
       "chance_of_playing_next_round    291\n",
       "dtype: int64"
      ]
     },
     "execution_count": 242,
     "metadata": {},
     "output_type": "execute_result"
    }
   ],
   "source": [
    "a_status_df.isnull().sum()"
   ]
  },
  {
   "cell_type": "markdown",
   "metadata": {},
   "source": [
    "This is the majority of the missing data, as suspected, the status plays a part in this. I assume it is difficult to gather predictions on whether or not an available player is going to play without further calculations."
   ]
  },
  {
   "cell_type": "code",
   "execution_count": 243,
   "metadata": {},
   "outputs": [
    {
     "data": {
      "text/plain": [
       "id                              0\n",
       "status                          0\n",
       "chance_of_playing_this_round    0\n",
       "chance_of_playing_next_round    0\n",
       "dtype: int64"
      ]
     },
     "execution_count": 243,
     "metadata": {},
     "output_type": "execute_result"
    }
   ],
   "source": [
    "u_status_df.isnull().sum()"
   ]
  },
  {
   "cell_type": "code",
   "execution_count": 244,
   "metadata": {},
   "outputs": [
    {
     "data": {
      "text/plain": [
       "id                              0\n",
       "status                          0\n",
       "chance_of_playing_this_round    2\n",
       "chance_of_playing_next_round    0\n",
       "dtype: int64"
      ]
     },
     "execution_count": 244,
     "metadata": {},
     "output_type": "execute_result"
    }
   ],
   "source": [
    "i_status_df.isnull().sum()"
   ]
  },
  {
   "cell_type": "code",
   "execution_count": 245,
   "metadata": {},
   "outputs": [
    {
     "data": {
      "text/plain": [
       "id                              0\n",
       "status                          0\n",
       "chance_of_playing_this_round    4\n",
       "chance_of_playing_next_round    0\n",
       "dtype: int64"
      ]
     },
     "execution_count": 245,
     "metadata": {},
     "output_type": "execute_result"
    }
   ],
   "source": [
    "d_status_df.isnull().sum()"
   ]
  },
  {
   "cell_type": "code",
   "execution_count": 246,
   "metadata": {},
   "outputs": [
    {
     "data": {
      "text/plain": [
       "id                              0\n",
       "status                          0\n",
       "chance_of_playing_this_round    0\n",
       "chance_of_playing_next_round    0\n",
       "dtype: int64"
      ]
     },
     "execution_count": 246,
     "metadata": {},
     "output_type": "execute_result"
    }
   ],
   "source": [
    "n_status_df.isnull().sum()"
   ]
  },
  {
   "cell_type": "code",
   "execution_count": 247,
   "metadata": {},
   "outputs": [
    {
     "data": {
      "text/plain": [
       "id                              0\n",
       "status                          0\n",
       "chance_of_playing_this_round    0\n",
       "chance_of_playing_next_round    0\n",
       "dtype: int64"
      ]
     },
     "execution_count": 247,
     "metadata": {},
     "output_type": "execute_result"
    }
   ],
   "source": [
    "s_status_df.isnull().sum()"
   ]
  },
  {
   "cell_type": "markdown",
   "metadata": {},
   "source": [
    "For now, we can use this dataframe to store the chance of availability of players who are not 100% available (status != a)"
   ]
  },
  {
   "cell_type": "code",
   "execution_count": 248,
   "metadata": {},
   "outputs": [
    {
     "data": {
      "text/plain": [
       "id                              0\n",
       "status                          0\n",
       "chance_of_playing_this_round    6\n",
       "chance_of_playing_next_round    0\n",
       "dtype: int64"
      ]
     },
     "execution_count": 248,
     "metadata": {},
     "output_type": "execute_result"
    }
   ],
   "source": [
    "# removing all rows of 100% available players.\n",
    "chance_of_playing_df = chance_of_playing_df[chance_of_playing_df.status != 'a']\n",
    "chance_of_playing_df.isnull().sum()"
   ]
  },
  {
   "cell_type": "markdown",
   "metadata": {},
   "source": [
    "As there are still 6 pieces of missing data which cannot be predicted accurately, it is easier to just presume the player will not be available, to avaid losing points in the league."
   ]
  },
  {
   "cell_type": "code",
   "execution_count": 249,
   "metadata": {},
   "outputs": [
    {
     "data": {
      "text/plain": [
       "id                              0\n",
       "status                          0\n",
       "chance_of_playing_this_round    0\n",
       "chance_of_playing_next_round    0\n",
       "dtype: int64"
      ]
     },
     "execution_count": 249,
     "metadata": {},
     "output_type": "execute_result"
    }
   ],
   "source": [
    "try:\n",
    "    chance_of_playing_df.fillna(0, inplace=True)\n",
    "except:\n",
    "    pass\n",
    "chance_of_playing_df.isnull().sum()"
   ]
  },
  {
   "cell_type": "code",
   "execution_count": 250,
   "metadata": {},
   "outputs": [
    {
     "data": {
      "text/plain": [
       "label    0\n",
       "name     0\n",
       "dtype: int64"
      ]
     },
     "execution_count": 250,
     "metadata": {},
     "output_type": "execute_result"
    }
   ],
   "source": [
    "element_stats_df = pd.DataFrame(general_info_json['element_stats'])\n",
    "element_stats_df.isnull().sum()"
   ]
  },
  {
   "cell_type": "code",
   "execution_count": 251,
   "metadata": {},
   "outputs": [
    {
     "data": {
      "text/plain": [
       "id                      0\n",
       "plural_name             0\n",
       "plural_name_short       0\n",
       "singular_name           0\n",
       "singular_name_short     0\n",
       "squad_select            0\n",
       "squad_min_play          0\n",
       "squad_max_play          0\n",
       "ui_shirt_specific       0\n",
       "sub_positions_locked    0\n",
       "element_count           0\n",
       "dtype: int64"
      ]
     },
     "execution_count": 251,
     "metadata": {},
     "output_type": "execute_result"
    }
   ],
   "source": [
    "element_types_df = pd.DataFrame(general_info_json['element_types'])\n",
    "element_types_df.isnull().sum()"
   ]
  },
  {
   "cell_type": "code",
   "execution_count": 252,
   "metadata": {},
   "outputs": [
    {
     "data": {
      "text/plain": [
       "dict_keys(['code', 'event', 'finished', 'finished_provisional', 'id', 'kickoff_time', 'minutes', 'provisional_start_time', 'started', 'team_a', 'team_a_score', 'team_h', 'team_h_score', 'stats', 'team_h_difficulty', 'team_a_difficulty', 'pulse_id'])"
      ]
     },
     "execution_count": 252,
     "metadata": {},
     "output_type": "execute_result"
    }
   ],
   "source": [
    "# gets a list of keys of the json\n",
    "fixtures_json[0].keys()"
   ]
  }
 ],
 "metadata": {
  "interpreter": {
   "hash": "609cdfdd6335d9257acae93d12862b48f821f0c4fd0e4ddb0030b97e74f22700"
  },
  "kernelspec": {
   "display_name": "Python 3.7.11 64-bit ('capstone-project-env': conda)",
   "name": "python3"
  },
  "language_info": {
   "codemirror_mode": {
    "name": "ipython",
    "version": 3
   },
   "file_extension": ".py",
   "mimetype": "text/x-python",
   "name": "python",
   "nbconvert_exporter": "python",
   "pygments_lexer": "ipython3",
   "version": "3.7.11"
  }
 },
 "nbformat": 4,
 "nbformat_minor": 5
}
